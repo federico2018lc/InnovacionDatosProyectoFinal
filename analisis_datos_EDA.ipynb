{
  "cells": [
    {
      "cell_type": "markdown",
      "metadata": {
        "id": "view-in-github",
        "colab_type": "text"
      },
      "source": [
        "<a href=\"https://colab.research.google.com/github/federico2018lc/InnovacionDatosProyectoFinal/blob/main/analisis_datos_EDA.ipynb\" target=\"_parent\"><img src=\"https://colab.research.google.com/assets/colab-badge.svg\" alt=\"Open In Colab\"/></a>"
      ]
    },
    {
      "cell_type": "markdown",
      "id": "4df48b79-2ea9-4a80-af69-e3f8d1152c16",
      "metadata": {
        "id": "4df48b79-2ea9-4a80-af69-e3f8d1152c16"
      },
      "source": [
        "Etapa preparacion y  extraccion: Para comenzar el analisis, importamos las librerias a utilizar y cargamos los archivos csv para luego realizar etl"
      ]
    },
    {
      "cell_type": "code",
      "execution_count": 2,
      "id": "59c0ebd7-c65d-4b85-9f45-344807912a40",
      "metadata": {
        "id": "59c0ebd7-c65d-4b85-9f45-344807912a40"
      },
      "outputs": [],
      "source": [
        "import pandas as pd\n",
        "import numpy as np"
      ]
    },
    {
      "cell_type": "code",
      "execution_count": 3,
      "id": "cab5f763-8d7c-4079-97c8-6e6954e8f0d5",
      "metadata": {
        "id": "cab5f763-8d7c-4079-97c8-6e6954e8f0d5"
      },
      "outputs": [],
      "source": [
        "clientes=pd.read_csv( 'customer_data.csv')\n",
        "ventas= pd.read_csv('sales_data.csv')\n"
      ]
    },
    {
      "cell_type": "code",
      "source": [
        "print(\"Tabla Clientes\")\n",
        "print(clientes.head())\n",
        "print(\"Tabla Ventas\")\n",
        "print(ventas.head())"
      ],
      "metadata": {
        "colab": {
          "base_uri": "https://localhost:8080/"
        },
        "id": "6HIsqhIzBOwj",
        "outputId": "bd0b37aa-c501-471f-a33a-29432d454b21"
      },
      "id": "6HIsqhIzBOwj",
      "execution_count": 4,
      "outputs": [
        {
          "output_type": "stream",
          "name": "stdout",
          "text": [
            "Tabla Clientes\n",
            "  customer_id  gender   age payment_method\n",
            "0     C241288  Female  28.0    Credit Card\n",
            "1     C111565    Male  21.0     Debit Card\n",
            "2     C266599    Male  20.0           Cash\n",
            "3     C988172  Female  66.0    Credit Card\n",
            "4     C189076  Female  53.0           Cash\n",
            "Tabla Ventas\n",
            "  invoice_no customer_id  category  quantity    price invoice_date  \\\n",
            "0    I138884     C241288  Clothing         5  1500.40   05-08-2022   \n",
            "1    I317333     C111565     Shoes         3  1800.51   12-12-2021   \n",
            "2    I127801     C266599  Clothing         1   300.08   09-11-2021   \n",
            "3    I173702     C988172     Shoes         5  3000.85   16-05-2021   \n",
            "4    I337046     C189076     Books         4    60.60   24-10-2021   \n",
            "\n",
            "    shopping_mall  \n",
            "0          Kanyon  \n",
            "1  Forum Istanbul  \n",
            "2       Metrocity  \n",
            "3    Metropol AVM  \n",
            "4          Kanyon  \n"
          ]
        }
      ]
    },
    {
      "cell_type": "code",
      "execution_count": 6,
      "id": "46e5fa16-65f0-47d2-89d9-947bb3887cd2",
      "metadata": {
        "colab": {
          "base_uri": "https://localhost:8080/"
        },
        "id": "46e5fa16-65f0-47d2-89d9-947bb3887cd2",
        "outputId": "6791a676-f72c-4058-dac4-b48898f4d2c3"
      },
      "outputs": [
        {
          "output_type": "stream",
          "name": "stdout",
          "text": [
            "<class 'pandas.core.frame.DataFrame'>\n",
            "RangeIndex: 99457 entries, 0 to 99456\n",
            "Data columns (total 4 columns):\n",
            " #   Column          Non-Null Count  Dtype  \n",
            "---  ------          --------------  -----  \n",
            " 0   customer_id     99457 non-null  object \n",
            " 1   gender          99457 non-null  object \n",
            " 2   age             99338 non-null  float64\n",
            " 3   payment_method  99457 non-null  object \n",
            "dtypes: float64(1), object(3)\n",
            "memory usage: 3.0+ MB\n",
            "None\n",
            "<class 'pandas.core.frame.DataFrame'>\n",
            "RangeIndex: 99457 entries, 0 to 99456\n",
            "Data columns (total 7 columns):\n",
            " #   Column         Non-Null Count  Dtype  \n",
            "---  ------         --------------  -----  \n",
            " 0   invoice_no     99457 non-null  object \n",
            " 1   customer_id    99457 non-null  object \n",
            " 2   category       99457 non-null  object \n",
            " 3   quantity       99457 non-null  int64  \n",
            " 4   price          99457 non-null  float64\n",
            " 5   invoice_date   99457 non-null  object \n",
            " 6   shopping_mall  99457 non-null  object \n",
            "dtypes: float64(1), int64(1), object(5)\n",
            "memory usage: 5.3+ MB\n",
            "None\n"
          ]
        }
      ],
      "source": [
        "print(clientes.info())\n",
        "print(ventas.info())"
      ]
    },
    {
      "cell_type": "markdown",
      "id": "ee0bf1e9-ad61-41f8-a7e7-73957c880c91",
      "metadata": {
        "id": "ee0bf1e9-ad61-41f8-a7e7-73957c880c91"
      },
      "source": [
        "con las sentencias anteriores, pudimos observar que tipo de datos contiene cada data set ( objects: innvoice no, customerid, gender, payment method, category, invoice date, shopping mall), float (age, price) e int (quantity). Observamos que tienen en comun la columna customer_id y que las primeras columnas pueden ser eliminadas(contienen un indice) ya que usaremos la columna id"
      ]
    },
    {
      "cell_type": "markdown",
      "id": "2c579980-4c13-4fdb-8c0b-78bbb5adef44",
      "metadata": {
        "id": "2c579980-4c13-4fdb-8c0b-78bbb5adef44"
      },
      "source": [
        "Etapa: transformación y limpieza de datos"
      ]
    },
    {
      "cell_type": "code",
      "execution_count": null,
      "id": "d1f61dca-55e2-4f5a-a0c8-c43cfc18fa13",
      "metadata": {
        "id": "d1f61dca-55e2-4f5a-a0c8-c43cfc18fa13"
      },
      "outputs": [],
      "source": [
        "#clientes=pd.read_csv( 'customer_data.csv',index_col='customer_id') # ordendo por columna customer id"
      ]
    },
    {
      "cell_type": "code",
      "execution_count": null,
      "id": "91b7bb9f-e112-493a-b731-fe90757d75a0",
      "metadata": {
        "id": "91b7bb9f-e112-493a-b731-fe90757d75a0"
      },
      "outputs": [],
      "source": [
        "#ventas= pd.read_csv('sales_data.csv', index_col= 'customer_id') # ordendo por columna customer id"
      ]
    },
    {
      "cell_type": "code",
      "execution_count": 7,
      "id": "f8fbb597-6a35-4111-aefa-e05ce3ea6c59",
      "metadata": {
        "colab": {
          "base_uri": "https://localhost:8080/",
          "height": 210
        },
        "collapsed": true,
        "id": "f8fbb597-6a35-4111-aefa-e05ce3ea6c59",
        "outputId": "ad288a6a-64f7-478b-efd1-718cbaede893"
      },
      "outputs": [
        {
          "output_type": "execute_result",
          "data": {
            "text/plain": [
              "customer_id         0\n",
              "gender              0\n",
              "age               119\n",
              "payment_method      0\n",
              "dtype: int64"
            ],
            "text/html": [
              "<div>\n",
              "<style scoped>\n",
              "    .dataframe tbody tr th:only-of-type {\n",
              "        vertical-align: middle;\n",
              "    }\n",
              "\n",
              "    .dataframe tbody tr th {\n",
              "        vertical-align: top;\n",
              "    }\n",
              "\n",
              "    .dataframe thead th {\n",
              "        text-align: right;\n",
              "    }\n",
              "</style>\n",
              "<table border=\"1\" class=\"dataframe\">\n",
              "  <thead>\n",
              "    <tr style=\"text-align: right;\">\n",
              "      <th></th>\n",
              "      <th>0</th>\n",
              "    </tr>\n",
              "  </thead>\n",
              "  <tbody>\n",
              "    <tr>\n",
              "      <th>customer_id</th>\n",
              "      <td>0</td>\n",
              "    </tr>\n",
              "    <tr>\n",
              "      <th>gender</th>\n",
              "      <td>0</td>\n",
              "    </tr>\n",
              "    <tr>\n",
              "      <th>age</th>\n",
              "      <td>119</td>\n",
              "    </tr>\n",
              "    <tr>\n",
              "      <th>payment_method</th>\n",
              "      <td>0</td>\n",
              "    </tr>\n",
              "  </tbody>\n",
              "</table>\n",
              "</div><br><label><b>dtype:</b> int64</label>"
            ]
          },
          "metadata": {},
          "execution_count": 7
        }
      ],
      "source": [
        "clientes.isnull().sum()"
      ]
    },
    {
      "cell_type": "code",
      "execution_count": null,
      "id": "e03e3bf7-af67-4158-ab0e-476c05f08d92",
      "metadata": {
        "id": "e03e3bf7-af67-4158-ab0e-476c05f08d92"
      },
      "outputs": [],
      "source": [
        "#clientes.dropna (subset=['age'], inplace=True)#elimino los 119 registros vacios, ya que esa cantidad no afecta la muestra de 99338 valores\n",
        "#clientes['age'] = clientes['age'].astype(int)  # convierto a enteros la edad"
      ]
    },
    {
      "cell_type": "code",
      "execution_count": null,
      "id": "39dec92e-3193-4967-9cdc-38c23543d002",
      "metadata": {
        "id": "39dec92e-3193-4967-9cdc-38c23543d002"
      },
      "outputs": [],
      "source": [
        "#ventas = ventas[ventas.index.isin(clientes.index)] # Filtro por ventas válidas (coherentes con los clientes existentes)"
      ]
    },
    {
      "cell_type": "code",
      "execution_count": null,
      "id": "8494741b-76a0-4c9f-a93e-5faeb3e8fc40",
      "metadata": {
        "id": "8494741b-76a0-4c9f-a93e-5faeb3e8fc40",
        "outputId": "3dbb8f7c-3a87-4866-a722-aee762566efa"
      },
      "outputs": [
        {
          "data": {
            "text/plain": [
              "True"
            ]
          },
          "execution_count": 18,
          "metadata": {},
          "output_type": "execute_result"
        }
      ],
      "source": [
        "#set(ventas.index).issubset(set(clientes.index))"
      ]
    },
    {
      "cell_type": "code",
      "execution_count": 8,
      "id": "8917674b-f1e4-4ffb-b305-c6b72205b0d2",
      "metadata": {
        "colab": {
          "base_uri": "https://localhost:8080/",
          "height": 304
        },
        "collapsed": true,
        "id": "8917674b-f1e4-4ffb-b305-c6b72205b0d2",
        "outputId": "36c5f76c-d987-4b55-cfa8-59502a5c4efe"
      },
      "outputs": [
        {
          "output_type": "execute_result",
          "data": {
            "text/plain": [
              "invoice_no       0\n",
              "customer_id      0\n",
              "category         0\n",
              "quantity         0\n",
              "price            0\n",
              "invoice_date     0\n",
              "shopping_mall    0\n",
              "dtype: int64"
            ],
            "text/html": [
              "<div>\n",
              "<style scoped>\n",
              "    .dataframe tbody tr th:only-of-type {\n",
              "        vertical-align: middle;\n",
              "    }\n",
              "\n",
              "    .dataframe tbody tr th {\n",
              "        vertical-align: top;\n",
              "    }\n",
              "\n",
              "    .dataframe thead th {\n",
              "        text-align: right;\n",
              "    }\n",
              "</style>\n",
              "<table border=\"1\" class=\"dataframe\">\n",
              "  <thead>\n",
              "    <tr style=\"text-align: right;\">\n",
              "      <th></th>\n",
              "      <th>0</th>\n",
              "    </tr>\n",
              "  </thead>\n",
              "  <tbody>\n",
              "    <tr>\n",
              "      <th>invoice_no</th>\n",
              "      <td>0</td>\n",
              "    </tr>\n",
              "    <tr>\n",
              "      <th>customer_id</th>\n",
              "      <td>0</td>\n",
              "    </tr>\n",
              "    <tr>\n",
              "      <th>category</th>\n",
              "      <td>0</td>\n",
              "    </tr>\n",
              "    <tr>\n",
              "      <th>quantity</th>\n",
              "      <td>0</td>\n",
              "    </tr>\n",
              "    <tr>\n",
              "      <th>price</th>\n",
              "      <td>0</td>\n",
              "    </tr>\n",
              "    <tr>\n",
              "      <th>invoice_date</th>\n",
              "      <td>0</td>\n",
              "    </tr>\n",
              "    <tr>\n",
              "      <th>shopping_mall</th>\n",
              "      <td>0</td>\n",
              "    </tr>\n",
              "  </tbody>\n",
              "</table>\n",
              "</div><br><label><b>dtype:</b> int64</label>"
            ]
          },
          "metadata": {},
          "execution_count": 8
        }
      ],
      "source": [
        "ventas.isnull().sum()"
      ]
    },
    {
      "cell_type": "code",
      "execution_count": null,
      "id": "6563e197-ffed-4a8d-91e4-dc1eefa3d8eb",
      "metadata": {
        "id": "6563e197-ffed-4a8d-91e4-dc1eefa3d8eb"
      },
      "outputs": [],
      "source": [
        "ventas.loc[:,'invoice_date']= pd.to_datetime(ventas['invoice_date'], format='%d-%m-%Y') #estandarizo fechas. Uso loc para asegurar que se modifique toda la columna del df original"
      ]
    },
    {
      "cell_type": "code",
      "execution_count": null,
      "id": "902669bc-5825-4432-a109-eb3971398b10",
      "metadata": {
        "id": "902669bc-5825-4432-a109-eb3971398b10",
        "outputId": "a6f67ed9-7c06-45b1-d3c2-a0b4b9d343f3"
      },
      "outputs": [
        {
          "data": {
            "text/html": [
              "<div>\n",
              "<style scoped>\n",
              "    .dataframe tbody tr th:only-of-type {\n",
              "        vertical-align: middle;\n",
              "    }\n",
              "\n",
              "    .dataframe tbody tr th {\n",
              "        vertical-align: top;\n",
              "    }\n",
              "\n",
              "    .dataframe thead th {\n",
              "        text-align: right;\n",
              "    }\n",
              "</style>\n",
              "<table border=\"1\" class=\"dataframe\">\n",
              "  <thead>\n",
              "    <tr style=\"text-align: right;\">\n",
              "      <th></th>\n",
              "      <th>invoice_no</th>\n",
              "      <th>category</th>\n",
              "      <th>quantity</th>\n",
              "      <th>price</th>\n",
              "      <th>invoice_date</th>\n",
              "      <th>shopping_mall</th>\n",
              "    </tr>\n",
              "    <tr>\n",
              "      <th>customer_id</th>\n",
              "      <th></th>\n",
              "      <th></th>\n",
              "      <th></th>\n",
              "      <th></th>\n",
              "      <th></th>\n",
              "      <th></th>\n",
              "    </tr>\n",
              "  </thead>\n",
              "  <tbody>\n",
              "    <tr>\n",
              "      <th>C241288</th>\n",
              "      <td>I138884</td>\n",
              "      <td>Clothing</td>\n",
              "      <td>5</td>\n",
              "      <td>1500.40</td>\n",
              "      <td>2022-08-05 00:00:00</td>\n",
              "      <td>Kanyon</td>\n",
              "    </tr>\n",
              "    <tr>\n",
              "      <th>C111565</th>\n",
              "      <td>I317333</td>\n",
              "      <td>Shoes</td>\n",
              "      <td>3</td>\n",
              "      <td>1800.51</td>\n",
              "      <td>2021-12-12 00:00:00</td>\n",
              "      <td>Forum Istanbul</td>\n",
              "    </tr>\n",
              "    <tr>\n",
              "      <th>C266599</th>\n",
              "      <td>I127801</td>\n",
              "      <td>Clothing</td>\n",
              "      <td>1</td>\n",
              "      <td>300.08</td>\n",
              "      <td>2021-11-09 00:00:00</td>\n",
              "      <td>Metrocity</td>\n",
              "    </tr>\n",
              "    <tr>\n",
              "      <th>C988172</th>\n",
              "      <td>I173702</td>\n",
              "      <td>Shoes</td>\n",
              "      <td>5</td>\n",
              "      <td>3000.85</td>\n",
              "      <td>2021-05-16 00:00:00</td>\n",
              "      <td>Metropol AVM</td>\n",
              "    </tr>\n",
              "    <tr>\n",
              "      <th>C189076</th>\n",
              "      <td>I337046</td>\n",
              "      <td>Books</td>\n",
              "      <td>4</td>\n",
              "      <td>60.60</td>\n",
              "      <td>2021-10-24 00:00:00</td>\n",
              "      <td>Kanyon</td>\n",
              "    </tr>\n",
              "  </tbody>\n",
              "</table>\n",
              "</div>"
            ],
            "text/plain": [
              "            invoice_no  category  quantity    price         invoice_date  \\\n",
              "customer_id                                                                \n",
              "C241288        I138884  Clothing         5  1500.40  2022-08-05 00:00:00   \n",
              "C111565        I317333     Shoes         3  1800.51  2021-12-12 00:00:00   \n",
              "C266599        I127801  Clothing         1   300.08  2021-11-09 00:00:00   \n",
              "C988172        I173702     Shoes         5  3000.85  2021-05-16 00:00:00   \n",
              "C189076        I337046     Books         4    60.60  2021-10-24 00:00:00   \n",
              "\n",
              "              shopping_mall  \n",
              "customer_id                  \n",
              "C241288              Kanyon  \n",
              "C111565      Forum Istanbul  \n",
              "C266599           Metrocity  \n",
              "C988172        Metropol AVM  \n",
              "C189076              Kanyon  "
            ]
          },
          "execution_count": 25,
          "metadata": {},
          "output_type": "execute_result"
        }
      ],
      "source": [
        "ventas.head() #confirmo si el cambio se realizó ok\n"
      ]
    },
    {
      "cell_type": "code",
      "execution_count": null,
      "id": "5777ee22-b8ce-46e4-9fd2-f8baa7b1bc8c",
      "metadata": {
        "id": "5777ee22-b8ce-46e4-9fd2-f8baa7b1bc8c",
        "outputId": "53cc3080-3776-442b-befa-fc3b13b67fcd"
      },
      "outputs": [
        {
          "name": "stdout",
          "output_type": "stream",
          "text": [
            "<class 'pandas.core.frame.DataFrame'>\n",
            "Index: 99338 entries, C241288 to C273973\n",
            "Data columns (total 6 columns):\n",
            " #   Column         Non-Null Count  Dtype  \n",
            "---  ------         --------------  -----  \n",
            " 0   invoice_no     99338 non-null  object \n",
            " 1   category       99338 non-null  object \n",
            " 2   quantity       99338 non-null  int64  \n",
            " 3   price          99338 non-null  float64\n",
            " 4   invoice_date   99338 non-null  object \n",
            " 5   shopping_mall  99338 non-null  object \n",
            "dtypes: float64(1), int64(1), object(4)\n",
            "memory usage: 5.3+ MB\n"
          ]
        }
      ],
      "source": [
        "ventas.info() # confirmo si el tipo de dato dejo de ser un object"
      ]
    },
    {
      "cell_type": "code",
      "execution_count": null,
      "id": "21243549-c8ad-436f-8361-970322003845",
      "metadata": {
        "id": "21243549-c8ad-436f-8361-970322003845",
        "outputId": "ba40d2ec-04fe-4d37-f2b1-3a3337c0d296"
      },
      "outputs": [
        {
          "data": {
            "text/plain": [
              "gender\n",
              "Female    59.81\n",
              "Male      40.19\n",
              "Name: proportion, dtype: float64"
            ]
          },
          "execution_count": 27,
          "metadata": {},
          "output_type": "execute_result"
        }
      ],
      "source": [
        "(clientes['gender'].value_counts(normalize=True)*100).round(2) # aqui vemos cantidad de mujeres y hombres de la muestra en porcentajes\n"
      ]
    },
    {
      "cell_type": "code",
      "execution_count": null,
      "id": "c9a3e1b3-c6b2-4617-ab69-1de78622ffba",
      "metadata": {
        "id": "c9a3e1b3-c6b2-4617-ab69-1de78622ffba",
        "outputId": "e4daec28-ab00-4bfc-d137-0b340b4ea58e"
      },
      "outputs": [
        {
          "data": {
            "text/plain": [
              "count    99338.000000\n",
              "mean        43.425859\n",
              "std         14.989400\n",
              "min         18.000000\n",
              "25%         30.000000\n",
              "50%         43.000000\n",
              "75%         56.000000\n",
              "max         69.000000\n",
              "Name: age, dtype: float64"
            ]
          },
          "execution_count": 28,
          "metadata": {},
          "output_type": "execute_result"
        }
      ],
      "source": [
        "clientes ['age'].describe() # vemos promedio de edades (43.4 años), desviacion estandar (14.98), max (69) y min ( 18 años)"
      ]
    },
    {
      "cell_type": "code",
      "execution_count": null,
      "id": "23a4df11-2283-4e42-b0cd-f7a97239ad87",
      "metadata": {
        "id": "23a4df11-2283-4e42-b0cd-f7a97239ad87",
        "outputId": "67c5507e-95f1-4d80-836c-5ab41134edde"
      },
      "outputs": [
        {
          "data": {
            "text/plain": [
              "payment_method\n",
              "Cash           44.69\n",
              "Credit Card    35.13\n",
              "Debit Card     20.18\n",
              "Name: proportion, dtype: float64"
            ]
          },
          "execution_count": 70,
          "metadata": {},
          "output_type": "execute_result"
        }
      ],
      "source": [
        "(clientes ['payment_method'].value_counts(normalize=True)*100).round(2) #aqui vemos metodos de pagos diferenciados en porcentajes"
      ]
    },
    {
      "cell_type": "code",
      "execution_count": null,
      "id": "ffcc0cfc-8f1d-4ae3-9829-b6fac80a8a27",
      "metadata": {
        "id": "ffcc0cfc-8f1d-4ae3-9829-b6fac80a8a27",
        "outputId": "60dcc6a0-7c56-419c-a9a8-ba1989e3cb37"
      },
      "outputs": [
        {
          "data": {
            "text/plain": [
              "gender  payment_method\n",
              "Female  Cash              44.57\n",
              "        Credit Card       35.34\n",
              "        Debit Card        20.10\n",
              "Male    Cash              44.88\n",
              "        Credit Card       34.82\n",
              "        Debit Card        20.30\n",
              "Name: proportion, dtype: float64"
            ]
          },
          "execution_count": 30,
          "metadata": {},
          "output_type": "execute_result"
        }
      ],
      "source": [
        "(clientes.groupby('gender')['payment_method'].value_counts(normalize=True)*100).round(2)"
      ]
    },
    {
      "cell_type": "code",
      "execution_count": null,
      "id": "a6161d38-78e3-439f-b2fa-537f6d1e153b",
      "metadata": {
        "id": "a6161d38-78e3-439f-b2fa-537f6d1e153b",
        "outputId": "40714884-8dda-4210-dba6-0ea0471fa10b"
      },
      "outputs": [
        {
          "data": {
            "text/html": [
              "<div>\n",
              "<style scoped>\n",
              "    .dataframe tbody tr th:only-of-type {\n",
              "        vertical-align: middle;\n",
              "    }\n",
              "\n",
              "    .dataframe tbody tr th {\n",
              "        vertical-align: top;\n",
              "    }\n",
              "\n",
              "    .dataframe thead th {\n",
              "        text-align: right;\n",
              "    }\n",
              "</style>\n",
              "<table border=\"1\" class=\"dataframe\">\n",
              "  <thead>\n",
              "    <tr style=\"text-align: right;\">\n",
              "      <th></th>\n",
              "      <th>quantity</th>\n",
              "      <th>price</th>\n",
              "    </tr>\n",
              "  </thead>\n",
              "  <tbody>\n",
              "    <tr>\n",
              "      <th>count</th>\n",
              "      <td>99338.000000</td>\n",
              "      <td>99338.000000</td>\n",
              "    </tr>\n",
              "    <tr>\n",
              "      <th>mean</th>\n",
              "      <td>3.003473</td>\n",
              "      <td>689.296890</td>\n",
              "    </tr>\n",
              "    <tr>\n",
              "      <th>std</th>\n",
              "      <td>1.413009</td>\n",
              "      <td>941.368811</td>\n",
              "    </tr>\n",
              "    <tr>\n",
              "      <th>min</th>\n",
              "      <td>1.000000</td>\n",
              "      <td>5.230000</td>\n",
              "    </tr>\n",
              "    <tr>\n",
              "      <th>25%</th>\n",
              "      <td>2.000000</td>\n",
              "      <td>45.450000</td>\n",
              "    </tr>\n",
              "    <tr>\n",
              "      <th>50%</th>\n",
              "      <td>3.000000</td>\n",
              "      <td>203.300000</td>\n",
              "    </tr>\n",
              "    <tr>\n",
              "      <th>75%</th>\n",
              "      <td>4.000000</td>\n",
              "      <td>1200.320000</td>\n",
              "    </tr>\n",
              "    <tr>\n",
              "      <th>max</th>\n",
              "      <td>5.000000</td>\n",
              "      <td>5250.000000</td>\n",
              "    </tr>\n",
              "  </tbody>\n",
              "</table>\n",
              "</div>"
            ],
            "text/plain": [
              "           quantity         price\n",
              "count  99338.000000  99338.000000\n",
              "mean       3.003473    689.296890\n",
              "std        1.413009    941.368811\n",
              "min        1.000000      5.230000\n",
              "25%        2.000000     45.450000\n",
              "50%        3.000000    203.300000\n",
              "75%        4.000000   1200.320000\n",
              "max        5.000000   5250.000000"
            ]
          },
          "execution_count": 31,
          "metadata": {},
          "output_type": "execute_result"
        }
      ],
      "source": [
        "ventas.describe()\n"
      ]
    },
    {
      "cell_type": "code",
      "execution_count": null,
      "id": "4bd17274-0431-4bb9-b99d-8af583d5c9ac",
      "metadata": {
        "id": "4bd17274-0431-4bb9-b99d-8af583d5c9ac",
        "outputId": "3179a699-f0a4-43c4-f798-5057bcb25513"
      },
      "outputs": [
        {
          "data": {
            "text/plain": [
              "category\n",
              "Clothing           34.67\n",
              "Cosmetics          15.18\n",
              "Food & Beverage    14.86\n",
              "Toys               10.14\n",
              "Shoes              10.08\n",
              "Technology          5.03\n",
              "Souvenir            5.02\n",
              "Books               5.01\n",
              "Name: proportion, dtype: float64"
            ]
          },
          "execution_count": 32,
          "metadata": {},
          "output_type": "execute_result"
        }
      ],
      "source": [
        "(ventas ['category'].value_counts(normalize=True)*100).round(2)\n"
      ]
    },
    {
      "cell_type": "code",
      "execution_count": null,
      "id": "b04ef201-74c8-4e6c-ac1b-6e0788811e85",
      "metadata": {
        "id": "b04ef201-74c8-4e6c-ac1b-6e0788811e85",
        "outputId": "87331dcb-74f4-4303-a57d-71a7b6839b50"
      },
      "outputs": [
        {
          "data": {
            "text/plain": [
              "count    99338.000000\n",
              "mean       689.296890\n",
              "std        941.368811\n",
              "min          5.230000\n",
              "25%         45.450000\n",
              "50%        203.300000\n",
              "75%       1200.320000\n",
              "max       5250.000000\n",
              "Name: price, dtype: float64"
            ]
          },
          "execution_count": 33,
          "metadata": {},
          "output_type": "execute_result"
        }
      ],
      "source": [
        "ventas ['price'].describe() # aqui vemos info sobre los precios, prmedio, desviacion standar, max y min"
      ]
    },
    {
      "cell_type": "code",
      "execution_count": null,
      "id": "5c522b39-d37d-4975-a6dd-400cfa382db3",
      "metadata": {
        "id": "5c522b39-d37d-4975-a6dd-400cfa382db3",
        "outputId": "b9f2cd4a-1d7f-4c50-cee5-3f6cc0e6dc6d"
      },
      "outputs": [
        {
          "data": {
            "text/plain": [
              "shopping_mall\n",
              "Mall of Istanbul     20.05\n",
              "Kanyon               19.94\n",
              "Metrocity            15.10\n",
              "Metropol AVM         10.21\n",
              "Istinye Park          9.83\n",
              "Zorlu Center          5.10\n",
              "Cevahir AVM           5.02\n",
              "Forum Istanbul        4.98\n",
              "Viaport Outlet        4.94\n",
              "Emaar Square Mall     4.84\n",
              "Name: proportion, dtype: float64"
            ]
          },
          "execution_count": 34,
          "metadata": {},
          "output_type": "execute_result"
        }
      ],
      "source": [
        "(ventas ['shopping_mall'].value_counts(normalize=True)*100).round(2) # aqui vemos %de participacion de cada mall"
      ]
    },
    {
      "cell_type": "code",
      "execution_count": null,
      "id": "a7669f43-1a4f-424a-af3f-5c8b1fb599d4",
      "metadata": {
        "id": "a7669f43-1a4f-424a-af3f-5c8b1fb599d4",
        "outputId": "cd5c6e1f-ead9-4b90-9157-863b29ee1a49"
      },
      "outputs": [
        {
          "data": {
            "text/plain": [
              "(Timestamp('2021-01-01 00:00:00'), Timestamp('2023-03-08 00:00:00'))"
            ]
          },
          "execution_count": 35,
          "metadata": {},
          "output_type": "execute_result"
        }
      ],
      "source": [
        "ventas['invoice_date'].min(), ventas['invoice_date'].max() # aca vemos rango de fechas de la muestra"
      ]
    },
    {
      "cell_type": "markdown",
      "id": "56ff69fe-e5af-4604-8f4a-8d18f6d22c9a",
      "metadata": {
        "id": "56ff69fe-e5af-4604-8f4a-8d18f6d22c9a"
      },
      "source": [
        "En este paso, unimos los dos data frame, utilizando columna customer_id"
      ]
    },
    {
      "cell_type": "code",
      "execution_count": null,
      "id": "42ee4413-2207-4902-8ec5-8d775c0fc4c4",
      "metadata": {
        "id": "42ee4413-2207-4902-8ec5-8d775c0fc4c4"
      },
      "outputs": [],
      "source": [
        "df_final= pd.merge(ventas, clientes, on='customer_id', how='inner')"
      ]
    },
    {
      "cell_type": "code",
      "execution_count": null,
      "id": "08dfbac9-c60e-4791-90d8-c13162737269",
      "metadata": {
        "id": "08dfbac9-c60e-4791-90d8-c13162737269",
        "outputId": "92cb50fc-c446-474e-e640-ce590a2d5e9d"
      },
      "outputs": [
        {
          "data": {
            "text/html": [
              "<div>\n",
              "<style scoped>\n",
              "    .dataframe tbody tr th:only-of-type {\n",
              "        vertical-align: middle;\n",
              "    }\n",
              "\n",
              "    .dataframe tbody tr th {\n",
              "        vertical-align: top;\n",
              "    }\n",
              "\n",
              "    .dataframe thead th {\n",
              "        text-align: right;\n",
              "    }\n",
              "</style>\n",
              "<table border=\"1\" class=\"dataframe\">\n",
              "  <thead>\n",
              "    <tr style=\"text-align: right;\">\n",
              "      <th></th>\n",
              "      <th>invoice_no</th>\n",
              "      <th>category</th>\n",
              "      <th>quantity</th>\n",
              "      <th>price</th>\n",
              "      <th>invoice_date</th>\n",
              "      <th>shopping_mall</th>\n",
              "      <th>gender</th>\n",
              "      <th>age</th>\n",
              "      <th>payment_method</th>\n",
              "    </tr>\n",
              "    <tr>\n",
              "      <th>customer_id</th>\n",
              "      <th></th>\n",
              "      <th></th>\n",
              "      <th></th>\n",
              "      <th></th>\n",
              "      <th></th>\n",
              "      <th></th>\n",
              "      <th></th>\n",
              "      <th></th>\n",
              "      <th></th>\n",
              "    </tr>\n",
              "  </thead>\n",
              "  <tbody>\n",
              "    <tr>\n",
              "      <th>C241288</th>\n",
              "      <td>I138884</td>\n",
              "      <td>Clothing</td>\n",
              "      <td>5</td>\n",
              "      <td>1500.40</td>\n",
              "      <td>2022-08-05 00:00:00</td>\n",
              "      <td>Kanyon</td>\n",
              "      <td>Female</td>\n",
              "      <td>28</td>\n",
              "      <td>Credit Card</td>\n",
              "    </tr>\n",
              "    <tr>\n",
              "      <th>C111565</th>\n",
              "      <td>I317333</td>\n",
              "      <td>Shoes</td>\n",
              "      <td>3</td>\n",
              "      <td>1800.51</td>\n",
              "      <td>2021-12-12 00:00:00</td>\n",
              "      <td>Forum Istanbul</td>\n",
              "      <td>Male</td>\n",
              "      <td>21</td>\n",
              "      <td>Debit Card</td>\n",
              "    </tr>\n",
              "    <tr>\n",
              "      <th>C266599</th>\n",
              "      <td>I127801</td>\n",
              "      <td>Clothing</td>\n",
              "      <td>1</td>\n",
              "      <td>300.08</td>\n",
              "      <td>2021-11-09 00:00:00</td>\n",
              "      <td>Metrocity</td>\n",
              "      <td>Male</td>\n",
              "      <td>20</td>\n",
              "      <td>Cash</td>\n",
              "    </tr>\n",
              "    <tr>\n",
              "      <th>C988172</th>\n",
              "      <td>I173702</td>\n",
              "      <td>Shoes</td>\n",
              "      <td>5</td>\n",
              "      <td>3000.85</td>\n",
              "      <td>2021-05-16 00:00:00</td>\n",
              "      <td>Metropol AVM</td>\n",
              "      <td>Female</td>\n",
              "      <td>66</td>\n",
              "      <td>Credit Card</td>\n",
              "    </tr>\n",
              "    <tr>\n",
              "      <th>C189076</th>\n",
              "      <td>I337046</td>\n",
              "      <td>Books</td>\n",
              "      <td>4</td>\n",
              "      <td>60.60</td>\n",
              "      <td>2021-10-24 00:00:00</td>\n",
              "      <td>Kanyon</td>\n",
              "      <td>Female</td>\n",
              "      <td>53</td>\n",
              "      <td>Cash</td>\n",
              "    </tr>\n",
              "    <tr>\n",
              "      <th>...</th>\n",
              "      <td>...</td>\n",
              "      <td>...</td>\n",
              "      <td>...</td>\n",
              "      <td>...</td>\n",
              "      <td>...</td>\n",
              "      <td>...</td>\n",
              "      <td>...</td>\n",
              "      <td>...</td>\n",
              "      <td>...</td>\n",
              "    </tr>\n",
              "    <tr>\n",
              "      <th>C441542</th>\n",
              "      <td>I219422</td>\n",
              "      <td>Souvenir</td>\n",
              "      <td>5</td>\n",
              "      <td>58.65</td>\n",
              "      <td>2022-09-21 00:00:00</td>\n",
              "      <td>Kanyon</td>\n",
              "      <td>Female</td>\n",
              "      <td>45</td>\n",
              "      <td>Credit Card</td>\n",
              "    </tr>\n",
              "    <tr>\n",
              "      <th>C569580</th>\n",
              "      <td>I325143</td>\n",
              "      <td>Food &amp; Beverage</td>\n",
              "      <td>2</td>\n",
              "      <td>10.46</td>\n",
              "      <td>2021-09-22 00:00:00</td>\n",
              "      <td>Forum Istanbul</td>\n",
              "      <td>Male</td>\n",
              "      <td>27</td>\n",
              "      <td>Cash</td>\n",
              "    </tr>\n",
              "    <tr>\n",
              "      <th>C103292</th>\n",
              "      <td>I824010</td>\n",
              "      <td>Food &amp; Beverage</td>\n",
              "      <td>2</td>\n",
              "      <td>10.46</td>\n",
              "      <td>2021-03-28 00:00:00</td>\n",
              "      <td>Metrocity</td>\n",
              "      <td>Male</td>\n",
              "      <td>63</td>\n",
              "      <td>Debit Card</td>\n",
              "    </tr>\n",
              "    <tr>\n",
              "      <th>C800631</th>\n",
              "      <td>I702964</td>\n",
              "      <td>Technology</td>\n",
              "      <td>4</td>\n",
              "      <td>4200.00</td>\n",
              "      <td>2021-03-16 00:00:00</td>\n",
              "      <td>Istinye Park</td>\n",
              "      <td>Male</td>\n",
              "      <td>56</td>\n",
              "      <td>Cash</td>\n",
              "    </tr>\n",
              "    <tr>\n",
              "      <th>C273973</th>\n",
              "      <td>I232867</td>\n",
              "      <td>Souvenir</td>\n",
              "      <td>3</td>\n",
              "      <td>35.19</td>\n",
              "      <td>2022-10-15 00:00:00</td>\n",
              "      <td>Mall of Istanbul</td>\n",
              "      <td>Female</td>\n",
              "      <td>36</td>\n",
              "      <td>Credit Card</td>\n",
              "    </tr>\n",
              "  </tbody>\n",
              "</table>\n",
              "<p>99338 rows × 9 columns</p>\n",
              "</div>"
            ],
            "text/plain": [
              "            invoice_no         category  quantity    price  \\\n",
              "customer_id                                                  \n",
              "C241288        I138884         Clothing         5  1500.40   \n",
              "C111565        I317333            Shoes         3  1800.51   \n",
              "C266599        I127801         Clothing         1   300.08   \n",
              "C988172        I173702            Shoes         5  3000.85   \n",
              "C189076        I337046            Books         4    60.60   \n",
              "...                ...              ...       ...      ...   \n",
              "C441542        I219422         Souvenir         5    58.65   \n",
              "C569580        I325143  Food & Beverage         2    10.46   \n",
              "C103292        I824010  Food & Beverage         2    10.46   \n",
              "C800631        I702964       Technology         4  4200.00   \n",
              "C273973        I232867         Souvenir         3    35.19   \n",
              "\n",
              "                    invoice_date     shopping_mall  gender  age payment_method  \n",
              "customer_id                                                                     \n",
              "C241288      2022-08-05 00:00:00            Kanyon  Female   28    Credit Card  \n",
              "C111565      2021-12-12 00:00:00    Forum Istanbul    Male   21     Debit Card  \n",
              "C266599      2021-11-09 00:00:00         Metrocity    Male   20           Cash  \n",
              "C988172      2021-05-16 00:00:00      Metropol AVM  Female   66    Credit Card  \n",
              "C189076      2021-10-24 00:00:00            Kanyon  Female   53           Cash  \n",
              "...                          ...               ...     ...  ...            ...  \n",
              "C441542      2022-09-21 00:00:00            Kanyon  Female   45    Credit Card  \n",
              "C569580      2021-09-22 00:00:00    Forum Istanbul    Male   27           Cash  \n",
              "C103292      2021-03-28 00:00:00         Metrocity    Male   63     Debit Card  \n",
              "C800631      2021-03-16 00:00:00      Istinye Park    Male   56           Cash  \n",
              "C273973      2022-10-15 00:00:00  Mall of Istanbul  Female   36    Credit Card  \n",
              "\n",
              "[99338 rows x 9 columns]"
            ]
          },
          "execution_count": 37,
          "metadata": {},
          "output_type": "execute_result"
        }
      ],
      "source": [
        "df_final"
      ]
    },
    {
      "cell_type": "code",
      "execution_count": null,
      "id": "f975ffe0-e23d-4f2d-ad52-92aed97b314b",
      "metadata": {
        "id": "f975ffe0-e23d-4f2d-ad52-92aed97b314b",
        "outputId": "bf52c053-13c9-407b-d191-a909fdf0e068"
      },
      "outputs": [
        {
          "name": "stdout",
          "output_type": "stream",
          "text": [
            "<class 'pandas.core.frame.DataFrame'>\n",
            "Index: 99338 entries, C241288 to C273973\n",
            "Data columns (total 9 columns):\n",
            " #   Column          Non-Null Count  Dtype  \n",
            "---  ------          --------------  -----  \n",
            " 0   invoice_no      99338 non-null  object \n",
            " 1   category        99338 non-null  object \n",
            " 2   quantity        99338 non-null  int64  \n",
            " 3   price           99338 non-null  float64\n",
            " 4   invoice_date    99338 non-null  object \n",
            " 5   shopping_mall   99338 non-null  object \n",
            " 6   gender          99338 non-null  object \n",
            " 7   age             99338 non-null  int64  \n",
            " 8   payment_method  99338 non-null  object \n",
            "dtypes: float64(1), int64(2), object(6)\n",
            "memory usage: 7.6+ MB\n"
          ]
        }
      ],
      "source": [
        "df_final.info()"
      ]
    },
    {
      "cell_type": "code",
      "execution_count": null,
      "id": "53a97ae7-e9c1-4111-88de-fb966cf7abf6",
      "metadata": {
        "id": "53a97ae7-e9c1-4111-88de-fb966cf7abf6"
      },
      "outputs": [],
      "source": [
        " df_final['age'] = df_final['age'].astype(int)"
      ]
    },
    {
      "cell_type": "code",
      "execution_count": null,
      "id": "895b610a-b1ee-443e-84fa-4fb6eb74f598",
      "metadata": {
        "id": "895b610a-b1ee-443e-84fa-4fb6eb74f598",
        "outputId": "c5087d16-a839-46be-c92d-b8168c10ae50"
      },
      "outputs": [
        {
          "name": "stdout",
          "output_type": "stream",
          "text": [
            "<class 'pandas.core.frame.DataFrame'>\n",
            "Index: 99338 entries, C241288 to C273973\n",
            "Data columns (total 9 columns):\n",
            " #   Column          Non-Null Count  Dtype  \n",
            "---  ------          --------------  -----  \n",
            " 0   invoice_no      99338 non-null  object \n",
            " 1   category        99338 non-null  object \n",
            " 2   quantity        99338 non-null  int64  \n",
            " 3   price           99338 non-null  float64\n",
            " 4   invoice_date    99338 non-null  object \n",
            " 5   shopping_mall   99338 non-null  object \n",
            " 6   gender          99338 non-null  object \n",
            " 7   age             99338 non-null  int64  \n",
            " 8   payment_method  99338 non-null  object \n",
            "dtypes: float64(1), int64(2), object(6)\n",
            "memory usage: 7.6+ MB\n"
          ]
        }
      ],
      "source": [
        "df_final.info()"
      ]
    },
    {
      "cell_type": "markdown",
      "id": "1b1c4109-2b7a-4463-af66-e44d7d769ea6",
      "metadata": {
        "id": "1b1c4109-2b7a-4463-af66-e44d7d769ea6"
      },
      "source": [
        "Ahora si, estamos en condiciones de responder preguntas de la consigna\n"
      ]
    },
    {
      "cell_type": "markdown",
      "id": "c17fe849-75a0-47e9-9d7f-e7b96e528b66",
      "metadata": {
        "id": "c17fe849-75a0-47e9-9d7f-e7b96e528b66"
      },
      "source": [
        "1 Metodo de pago mas usado:  en est caso, se observa que es el Cash ( efectivo)"
      ]
    },
    {
      "cell_type": "code",
      "execution_count": null,
      "id": "1ade6568-8626-43c2-84af-fa4a493299e2",
      "metadata": {
        "id": "1ade6568-8626-43c2-84af-fa4a493299e2",
        "outputId": "de1a97bb-b552-4188-b700-201b056300a2"
      },
      "outputs": [
        {
          "data": {
            "text/plain": [
              "0    Cash\n",
              "Name: payment_method, dtype: object"
            ]
          },
          "execution_count": 44,
          "metadata": {},
          "output_type": "execute_result"
        }
      ],
      "source": [
        "df_final['payment_method'].mode()"
      ]
    },
    {
      "cell_type": "markdown",
      "id": "197be12b-ef78-4dd8-b421-0b36b3c87303",
      "metadata": {
        "id": "197be12b-ef78-4dd8-b421-0b36b3c87303"
      },
      "source": [
        "2 Método de pago por genero: aqui se observa que tanto hombres como mujeres utilizan en similares porcentajes los medios de pago, siendo el mas usado el cash( 44,57% mujeres - 44.88% hombres), luego credito (35.34% mujeres - 34.82% hombres) y finalmente debito ( 20.1% mujeres - 20.3% hombres)"
      ]
    },
    {
      "cell_type": "code",
      "execution_count": null,
      "id": "9100eea5-e297-4e3e-8391-736b7d2c12f8",
      "metadata": {
        "id": "9100eea5-e297-4e3e-8391-736b7d2c12f8",
        "outputId": "fbf98b91-2ecd-4c81-a6f2-81dd77abdee6"
      },
      "outputs": [
        {
          "data": {
            "text/plain": [
              "gender  payment_method\n",
              "Female  Cash              26479\n",
              "        Credit Card       20994\n",
              "        Debit Card        11939\n",
              "Male    Cash              17918\n",
              "        Credit Card       13904\n",
              "        Debit Card         8104\n",
              "Name: count, dtype: int64"
            ]
          },
          "execution_count": 45,
          "metadata": {},
          "output_type": "execute_result"
        }
      ],
      "source": [
        "df_final.groupby('gender')['payment_method'].value_counts()\n"
      ]
    },
    {
      "cell_type": "code",
      "execution_count": null,
      "id": "ad99bf46-0818-4a22-bf8b-64f51e150779",
      "metadata": {
        "id": "ad99bf46-0818-4a22-bf8b-64f51e150779",
        "outputId": "160600fc-6537-4088-b194-e01265e823d6"
      },
      "outputs": [
        {
          "data": {
            "text/plain": [
              "gender  payment_method\n",
              "Female  Cash              44.57\n",
              "        Credit Card       35.34\n",
              "        Debit Card        20.10\n",
              "Male    Cash              44.88\n",
              "        Credit Card       34.82\n",
              "        Debit Card        20.30\n",
              "Name: proportion, dtype: float64"
            ]
          },
          "execution_count": 46,
          "metadata": {},
          "output_type": "execute_result"
        }
      ],
      "source": [
        "(df_final.groupby('gender')['payment_method'].value_counts(normalize=True)*100).round(2)"
      ]
    },
    {
      "cell_type": "markdown",
      "id": "a3f7cb88-1793-4c1e-be05-6762aee34349",
      "metadata": {
        "id": "a3f7cb88-1793-4c1e-be05-6762aee34349"
      },
      "source": [
        "3 categorización de clientes de acuerdo a su forma de pago (por\n",
        "edad y género)."
      ]
    },
    {
      "cell_type": "code",
      "execution_count": null,
      "id": "f1e0f7f0-1107-4680-9835-e85ad5d906d1",
      "metadata": {
        "id": "f1e0f7f0-1107-4680-9835-e85ad5d906d1"
      },
      "outputs": [],
      "source": [
        "categorizacion= (\n",
        "    df_final\n",
        "    .groupby(['age', 'gender', 'payment_method'])  # agrupo los datos edad, genero y metodo de pago\n",
        "    .size()                                        #cuenta cuantos registros hay en cada grupp\n",
        "    .reset_index(name='Cantidad')                  #conviete el resultado en un df y lo llma cantidad\n",
        "    .sort_values(by=['age', 'gender'])              # ordena\n",
        ")"
      ]
    },
    {
      "cell_type": "code",
      "execution_count": null,
      "id": "db9c61d4-0498-489e-9eca-373910643808",
      "metadata": {
        "id": "db9c61d4-0498-489e-9eca-373910643808",
        "outputId": "8d5c0d20-a43e-4ddb-a35b-0e34466546ed"
      },
      "outputs": [
        {
          "data": {
            "text/html": [
              "<div>\n",
              "<style scoped>\n",
              "    .dataframe tbody tr th:only-of-type {\n",
              "        vertical-align: middle;\n",
              "    }\n",
              "\n",
              "    .dataframe tbody tr th {\n",
              "        vertical-align: top;\n",
              "    }\n",
              "\n",
              "    .dataframe thead th {\n",
              "        text-align: right;\n",
              "    }\n",
              "</style>\n",
              "<table border=\"1\" class=\"dataframe\">\n",
              "  <thead>\n",
              "    <tr style=\"text-align: right;\">\n",
              "      <th></th>\n",
              "      <th>age</th>\n",
              "      <th>gender</th>\n",
              "      <th>payment_method</th>\n",
              "      <th>Cantidad</th>\n",
              "    </tr>\n",
              "  </thead>\n",
              "  <tbody>\n",
              "    <tr>\n",
              "      <th>0</th>\n",
              "      <td>18</td>\n",
              "      <td>Female</td>\n",
              "      <td>Cash</td>\n",
              "      <td>473</td>\n",
              "    </tr>\n",
              "    <tr>\n",
              "      <th>1</th>\n",
              "      <td>18</td>\n",
              "      <td>Female</td>\n",
              "      <td>Credit Card</td>\n",
              "      <td>383</td>\n",
              "    </tr>\n",
              "    <tr>\n",
              "      <th>2</th>\n",
              "      <td>18</td>\n",
              "      <td>Female</td>\n",
              "      <td>Debit Card</td>\n",
              "      <td>222</td>\n",
              "    </tr>\n",
              "    <tr>\n",
              "      <th>3</th>\n",
              "      <td>18</td>\n",
              "      <td>Male</td>\n",
              "      <td>Cash</td>\n",
              "      <td>342</td>\n",
              "    </tr>\n",
              "    <tr>\n",
              "      <th>4</th>\n",
              "      <td>18</td>\n",
              "      <td>Male</td>\n",
              "      <td>Credit Card</td>\n",
              "      <td>267</td>\n",
              "    </tr>\n",
              "    <tr>\n",
              "      <th>...</th>\n",
              "      <td>...</td>\n",
              "      <td>...</td>\n",
              "      <td>...</td>\n",
              "      <td>...</td>\n",
              "    </tr>\n",
              "    <tr>\n",
              "      <th>307</th>\n",
              "      <td>69</td>\n",
              "      <td>Female</td>\n",
              "      <td>Credit Card</td>\n",
              "      <td>394</td>\n",
              "    </tr>\n",
              "    <tr>\n",
              "      <th>308</th>\n",
              "      <td>69</td>\n",
              "      <td>Female</td>\n",
              "      <td>Debit Card</td>\n",
              "      <td>217</td>\n",
              "    </tr>\n",
              "    <tr>\n",
              "      <th>309</th>\n",
              "      <td>69</td>\n",
              "      <td>Male</td>\n",
              "      <td>Cash</td>\n",
              "      <td>325</td>\n",
              "    </tr>\n",
              "    <tr>\n",
              "      <th>310</th>\n",
              "      <td>69</td>\n",
              "      <td>Male</td>\n",
              "      <td>Credit Card</td>\n",
              "      <td>289</td>\n",
              "    </tr>\n",
              "    <tr>\n",
              "      <th>311</th>\n",
              "      <td>69</td>\n",
              "      <td>Male</td>\n",
              "      <td>Debit Card</td>\n",
              "      <td>143</td>\n",
              "    </tr>\n",
              "  </tbody>\n",
              "</table>\n",
              "<p>312 rows × 4 columns</p>\n",
              "</div>"
            ],
            "text/plain": [
              "     age  gender payment_method  Cantidad\n",
              "0     18  Female           Cash       473\n",
              "1     18  Female    Credit Card       383\n",
              "2     18  Female     Debit Card       222\n",
              "3     18    Male           Cash       342\n",
              "4     18    Male    Credit Card       267\n",
              "..   ...     ...            ...       ...\n",
              "307   69  Female    Credit Card       394\n",
              "308   69  Female     Debit Card       217\n",
              "309   69    Male           Cash       325\n",
              "310   69    Male    Credit Card       289\n",
              "311   69    Male     Debit Card       143\n",
              "\n",
              "[312 rows x 4 columns]"
            ]
          },
          "execution_count": 48,
          "metadata": {},
          "output_type": "execute_result"
        }
      ],
      "source": [
        "categorizacion"
      ]
    },
    {
      "cell_type": "markdown",
      "id": "d8d8a07a-d925-4579-a3d6-0182f99699cc",
      "metadata": {
        "id": "d8d8a07a-d925-4579-a3d6-0182f99699cc"
      },
      "source": [
        "4 Métodos de pagos realizados por el rango etario de 25 a 35 años"
      ]
    },
    {
      "cell_type": "code",
      "execution_count": null,
      "id": "2eafb229-4cfb-4f8a-9cef-b01e6d5b9feb",
      "metadata": {
        "id": "2eafb229-4cfb-4f8a-9cef-b01e6d5b9feb",
        "outputId": "b9a8e778-7401-4c8e-8212-7a64eea1b230"
      },
      "outputs": [
        {
          "data": {
            "text/plain": [
              "payment_method\n",
              "Cash           44.78\n",
              "Credit Card    34.82\n",
              "Debit Card     20.40\n",
              "Name: proportion, dtype: float64"
            ]
          },
          "execution_count": 49,
          "metadata": {},
          "output_type": "execute_result"
        }
      ],
      "source": [
        "df_25_35= df_final[ (df_final['age']>=25)& (df_final['age'] <=35)]\n",
        "(df_25_35 ['payment_method'].value_counts(normalize=True)*100).round(2)"
      ]
    },
    {
      "cell_type": "markdown",
      "id": "0ca3bd86-ab53-42f4-abeb-d700e10bb1a3",
      "metadata": {
        "id": "0ca3bd86-ab53-42f4-abeb-d700e10bb1a3"
      },
      "source": [
        "##### 5- Métodos de pago más utilizados por las mujeres. Se observa que el 44.57% utiliza cash"
      ]
    },
    {
      "cell_type": "code",
      "execution_count": null,
      "id": "c39783b5-4e36-4fc3-ac81-73ba51c613c5",
      "metadata": {
        "id": "c39783b5-4e36-4fc3-ac81-73ba51c613c5",
        "outputId": "ee2901be-9c02-40d6-da39-7e38142da24a"
      },
      "outputs": [
        {
          "data": {
            "text/plain": [
              "payment_method\n",
              "Cash           44.57\n",
              "Credit Card    35.34\n",
              "Debit Card     20.10\n",
              "Name: proportion, dtype: float64"
            ]
          },
          "execution_count": 50,
          "metadata": {},
          "output_type": "execute_result"
        }
      ],
      "source": [
        "(df_final[df_final['gender']=='Female']['payment_method'].value_counts(normalize=True)*100).round(2)"
      ]
    },
    {
      "cell_type": "markdown",
      "id": "c1c0b337-9cf3-4e1c-971b-01a867f25eee",
      "metadata": {
        "id": "c1c0b337-9cf3-4e1c-971b-01a867f25eee"
      },
      "source": [
        "6- Precios por categoría de productos: aqui vemos el listado de categorias de prodcutos y sus precios promedio"
      ]
    },
    {
      "cell_type": "code",
      "execution_count": null,
      "id": "e50a511a-f5a3-4ff5-ae4d-53adf6eaebaf",
      "metadata": {
        "id": "e50a511a-f5a3-4ff5-ae4d-53adf6eaebaf",
        "outputId": "33aa5863-3c20-43ce-afdc-c73ba0ca3c3b"
      },
      "outputs": [
        {
          "data": {
            "text/plain": [
              "category\n",
              "Books                45.56\n",
              "Clothing            901.12\n",
              "Cosmetics           122.45\n",
              "Food & Beverage      15.67\n",
              "Shoes              1807.28\n",
              "Souvenir             34.88\n",
              "Technology         3157.15\n",
              "Toys                107.75\n",
              "Name: price, dtype: float64"
            ]
          },
          "execution_count": 51,
          "metadata": {},
          "output_type": "execute_result"
        }
      ],
      "source": [
        "(df_final.groupby('category')['price'].mean()).round(2)"
      ]
    },
    {
      "cell_type": "markdown",
      "id": "932eacff-6087-4eea-a760-3efa35304b22",
      "metadata": {
        "id": "932eacff-6087-4eea-a760-3efa35304b22"
      },
      "source": [
        "ETAPA LOAD - datos limpios. Guardamos datos finales para hacer el analisis"
      ]
    },
    {
      "cell_type": "code",
      "execution_count": null,
      "id": "ce5de94f-e47e-4411-985f-1922a9413307",
      "metadata": {
        "id": "ce5de94f-e47e-4411-985f-1922a9413307"
      },
      "outputs": [],
      "source": [
        "datos_limpios=df_final.copy()   # creo un data frame limpio"
      ]
    },
    {
      "cell_type": "code",
      "execution_count": null,
      "id": "ef05718a-830c-4033-861b-e9cd99d349ad",
      "metadata": {
        "id": "ef05718a-830c-4033-861b-e9cd99d349ad",
        "outputId": "6c028ed7-31e8-4acf-9131-d9388e240c38"
      },
      "outputs": [
        {
          "data": {
            "text/html": [
              "<div>\n",
              "<style scoped>\n",
              "    .dataframe tbody tr th:only-of-type {\n",
              "        vertical-align: middle;\n",
              "    }\n",
              "\n",
              "    .dataframe tbody tr th {\n",
              "        vertical-align: top;\n",
              "    }\n",
              "\n",
              "    .dataframe thead th {\n",
              "        text-align: right;\n",
              "    }\n",
              "</style>\n",
              "<table border=\"1\" class=\"dataframe\">\n",
              "  <thead>\n",
              "    <tr style=\"text-align: right;\">\n",
              "      <th></th>\n",
              "      <th>invoice_no</th>\n",
              "      <th>category</th>\n",
              "      <th>quantity</th>\n",
              "      <th>price</th>\n",
              "      <th>invoice_date</th>\n",
              "      <th>shopping_mall</th>\n",
              "      <th>gender</th>\n",
              "      <th>age</th>\n",
              "      <th>payment_method</th>\n",
              "    </tr>\n",
              "    <tr>\n",
              "      <th>customer_id</th>\n",
              "      <th></th>\n",
              "      <th></th>\n",
              "      <th></th>\n",
              "      <th></th>\n",
              "      <th></th>\n",
              "      <th></th>\n",
              "      <th></th>\n",
              "      <th></th>\n",
              "      <th></th>\n",
              "    </tr>\n",
              "  </thead>\n",
              "  <tbody>\n",
              "    <tr>\n",
              "      <th>C241288</th>\n",
              "      <td>I138884</td>\n",
              "      <td>Clothing</td>\n",
              "      <td>5</td>\n",
              "      <td>1500.40</td>\n",
              "      <td>2022-08-05 00:00:00</td>\n",
              "      <td>Kanyon</td>\n",
              "      <td>Female</td>\n",
              "      <td>28</td>\n",
              "      <td>Credit Card</td>\n",
              "    </tr>\n",
              "    <tr>\n",
              "      <th>C111565</th>\n",
              "      <td>I317333</td>\n",
              "      <td>Shoes</td>\n",
              "      <td>3</td>\n",
              "      <td>1800.51</td>\n",
              "      <td>2021-12-12 00:00:00</td>\n",
              "      <td>Forum Istanbul</td>\n",
              "      <td>Male</td>\n",
              "      <td>21</td>\n",
              "      <td>Debit Card</td>\n",
              "    </tr>\n",
              "    <tr>\n",
              "      <th>C266599</th>\n",
              "      <td>I127801</td>\n",
              "      <td>Clothing</td>\n",
              "      <td>1</td>\n",
              "      <td>300.08</td>\n",
              "      <td>2021-11-09 00:00:00</td>\n",
              "      <td>Metrocity</td>\n",
              "      <td>Male</td>\n",
              "      <td>20</td>\n",
              "      <td>Cash</td>\n",
              "    </tr>\n",
              "    <tr>\n",
              "      <th>C988172</th>\n",
              "      <td>I173702</td>\n",
              "      <td>Shoes</td>\n",
              "      <td>5</td>\n",
              "      <td>3000.85</td>\n",
              "      <td>2021-05-16 00:00:00</td>\n",
              "      <td>Metropol AVM</td>\n",
              "      <td>Female</td>\n",
              "      <td>66</td>\n",
              "      <td>Credit Card</td>\n",
              "    </tr>\n",
              "    <tr>\n",
              "      <th>C189076</th>\n",
              "      <td>I337046</td>\n",
              "      <td>Books</td>\n",
              "      <td>4</td>\n",
              "      <td>60.60</td>\n",
              "      <td>2021-10-24 00:00:00</td>\n",
              "      <td>Kanyon</td>\n",
              "      <td>Female</td>\n",
              "      <td>53</td>\n",
              "      <td>Cash</td>\n",
              "    </tr>\n",
              "    <tr>\n",
              "      <th>...</th>\n",
              "      <td>...</td>\n",
              "      <td>...</td>\n",
              "      <td>...</td>\n",
              "      <td>...</td>\n",
              "      <td>...</td>\n",
              "      <td>...</td>\n",
              "      <td>...</td>\n",
              "      <td>...</td>\n",
              "      <td>...</td>\n",
              "    </tr>\n",
              "    <tr>\n",
              "      <th>C441542</th>\n",
              "      <td>I219422</td>\n",
              "      <td>Souvenir</td>\n",
              "      <td>5</td>\n",
              "      <td>58.65</td>\n",
              "      <td>2022-09-21 00:00:00</td>\n",
              "      <td>Kanyon</td>\n",
              "      <td>Female</td>\n",
              "      <td>45</td>\n",
              "      <td>Credit Card</td>\n",
              "    </tr>\n",
              "    <tr>\n",
              "      <th>C569580</th>\n",
              "      <td>I325143</td>\n",
              "      <td>Food &amp; Beverage</td>\n",
              "      <td>2</td>\n",
              "      <td>10.46</td>\n",
              "      <td>2021-09-22 00:00:00</td>\n",
              "      <td>Forum Istanbul</td>\n",
              "      <td>Male</td>\n",
              "      <td>27</td>\n",
              "      <td>Cash</td>\n",
              "    </tr>\n",
              "    <tr>\n",
              "      <th>C103292</th>\n",
              "      <td>I824010</td>\n",
              "      <td>Food &amp; Beverage</td>\n",
              "      <td>2</td>\n",
              "      <td>10.46</td>\n",
              "      <td>2021-03-28 00:00:00</td>\n",
              "      <td>Metrocity</td>\n",
              "      <td>Male</td>\n",
              "      <td>63</td>\n",
              "      <td>Debit Card</td>\n",
              "    </tr>\n",
              "    <tr>\n",
              "      <th>C800631</th>\n",
              "      <td>I702964</td>\n",
              "      <td>Technology</td>\n",
              "      <td>4</td>\n",
              "      <td>4200.00</td>\n",
              "      <td>2021-03-16 00:00:00</td>\n",
              "      <td>Istinye Park</td>\n",
              "      <td>Male</td>\n",
              "      <td>56</td>\n",
              "      <td>Cash</td>\n",
              "    </tr>\n",
              "    <tr>\n",
              "      <th>C273973</th>\n",
              "      <td>I232867</td>\n",
              "      <td>Souvenir</td>\n",
              "      <td>3</td>\n",
              "      <td>35.19</td>\n",
              "      <td>2022-10-15 00:00:00</td>\n",
              "      <td>Mall of Istanbul</td>\n",
              "      <td>Female</td>\n",
              "      <td>36</td>\n",
              "      <td>Credit Card</td>\n",
              "    </tr>\n",
              "  </tbody>\n",
              "</table>\n",
              "<p>99338 rows × 9 columns</p>\n",
              "</div>"
            ],
            "text/plain": [
              "            invoice_no         category  quantity    price  \\\n",
              "customer_id                                                  \n",
              "C241288        I138884         Clothing         5  1500.40   \n",
              "C111565        I317333            Shoes         3  1800.51   \n",
              "C266599        I127801         Clothing         1   300.08   \n",
              "C988172        I173702            Shoes         5  3000.85   \n",
              "C189076        I337046            Books         4    60.60   \n",
              "...                ...              ...       ...      ...   \n",
              "C441542        I219422         Souvenir         5    58.65   \n",
              "C569580        I325143  Food & Beverage         2    10.46   \n",
              "C103292        I824010  Food & Beverage         2    10.46   \n",
              "C800631        I702964       Technology         4  4200.00   \n",
              "C273973        I232867         Souvenir         3    35.19   \n",
              "\n",
              "                    invoice_date     shopping_mall  gender  age payment_method  \n",
              "customer_id                                                                     \n",
              "C241288      2022-08-05 00:00:00            Kanyon  Female   28    Credit Card  \n",
              "C111565      2021-12-12 00:00:00    Forum Istanbul    Male   21     Debit Card  \n",
              "C266599      2021-11-09 00:00:00         Metrocity    Male   20           Cash  \n",
              "C988172      2021-05-16 00:00:00      Metropol AVM  Female   66    Credit Card  \n",
              "C189076      2021-10-24 00:00:00            Kanyon  Female   53           Cash  \n",
              "...                          ...               ...     ...  ...            ...  \n",
              "C441542      2022-09-21 00:00:00            Kanyon  Female   45    Credit Card  \n",
              "C569580      2021-09-22 00:00:00    Forum Istanbul    Male   27           Cash  \n",
              "C103292      2021-03-28 00:00:00         Metrocity    Male   63     Debit Card  \n",
              "C800631      2021-03-16 00:00:00      Istinye Park    Male   56           Cash  \n",
              "C273973      2022-10-15 00:00:00  Mall of Istanbul  Female   36    Credit Card  \n",
              "\n",
              "[99338 rows x 9 columns]"
            ]
          },
          "execution_count": 53,
          "metadata": {},
          "output_type": "execute_result"
        }
      ],
      "source": [
        "datos_limpios"
      ]
    },
    {
      "cell_type": "markdown",
      "id": "c98d6cf0-5f94-40a3-b0bc-77b79cca3460",
      "metadata": {
        "id": "c98d6cf0-5f94-40a3-b0bc-77b79cca3460"
      },
      "source": [
        "Antes de guardarlo como definitivo, hacemos comprobaciones de integridad ( no nulos, no duplicados,tipos de datos)"
      ]
    },
    {
      "cell_type": "code",
      "execution_count": null,
      "id": "64c8bcc9-dd7e-4bb5-b448-ca3fc43139f5",
      "metadata": {
        "id": "64c8bcc9-dd7e-4bb5-b448-ca3fc43139f5",
        "outputId": "f916fe09-86fa-4168-d577-56dbfbdefc1a"
      },
      "outputs": [
        {
          "data": {
            "text/plain": [
              "age               0\n",
              "payment_method    0\n",
              "gender            0\n",
              "price             0\n",
              "shopping_mall     0\n",
              "dtype: int64"
            ]
          },
          "execution_count": 54,
          "metadata": {},
          "output_type": "execute_result"
        }
      ],
      "source": [
        "datos_limpios[['age', 'payment_method','gender', 'price', 'shopping_mall']].isnull().sum()"
      ]
    },
    {
      "cell_type": "code",
      "execution_count": null,
      "id": "0b72bca4-e38a-45d1-a7b4-ad157a60a159",
      "metadata": {
        "id": "0b72bca4-e38a-45d1-a7b4-ad157a60a159",
        "outputId": "7eda2c2b-1afa-4e1c-c4e7-0bd6fce0b7af"
      },
      "outputs": [
        {
          "data": {
            "text/plain": [
              "np.int64(0)"
            ]
          },
          "execution_count": 55,
          "metadata": {},
          "output_type": "execute_result"
        }
      ],
      "source": [
        "datos_limpios.index.isnull().sum() #acá nos fijamos que customer_id no sea nulo"
      ]
    },
    {
      "cell_type": "code",
      "execution_count": null,
      "id": "f5332c7a-e979-46b9-a55a-22c2f4036ef3",
      "metadata": {
        "id": "f5332c7a-e979-46b9-a55a-22c2f4036ef3",
        "outputId": "3e6bdf9a-fb68-4f79-8e05-f55a15269f01"
      },
      "outputs": [
        {
          "data": {
            "text/plain": [
              "np.int64(0)"
            ]
          },
          "execution_count": 56,
          "metadata": {},
          "output_type": "execute_result"
        }
      ],
      "source": [
        "datos_limpios.duplicated().sum()"
      ]
    },
    {
      "cell_type": "code",
      "execution_count": null,
      "id": "7bdc2314-489b-483c-bdc4-fe9feb2ca169",
      "metadata": {
        "id": "7bdc2314-489b-483c-bdc4-fe9feb2ca169",
        "outputId": "0b69537d-399e-41fb-d9ab-0cb351bc6b85"
      },
      "outputs": [
        {
          "data": {
            "text/plain": [
              "True"
            ]
          },
          "execution_count": 57,
          "metadata": {},
          "output_type": "execute_result"
        }
      ],
      "source": [
        "set(ventas.index).issubset(set(clientes.index))# aca chequeamos integridad referencial ( mismos registros  en ventas que en clientes)"
      ]
    },
    {
      "cell_type": "code",
      "execution_count": null,
      "id": "88739945-d83c-4e48-af32-d90da789e2ad",
      "metadata": {
        "id": "88739945-d83c-4e48-af32-d90da789e2ad",
        "outputId": "70cd8152-efd2-4bfb-aea8-2c4169a3abaf"
      },
      "outputs": [
        {
          "name": "stdout",
          "output_type": "stream",
          "text": [
            "<class 'pandas.core.frame.DataFrame'>\n",
            "Index: 99338 entries, C241288 to C273973\n",
            "Data columns (total 9 columns):\n",
            " #   Column          Non-Null Count  Dtype  \n",
            "---  ------          --------------  -----  \n",
            " 0   invoice_no      99338 non-null  object \n",
            " 1   category        99338 non-null  object \n",
            " 2   quantity        99338 non-null  int64  \n",
            " 3   price           99338 non-null  float64\n",
            " 4   invoice_date    99338 non-null  object \n",
            " 5   shopping_mall   99338 non-null  object \n",
            " 6   gender          99338 non-null  object \n",
            " 7   age             99338 non-null  int64  \n",
            " 8   payment_method  99338 non-null  object \n",
            "dtypes: float64(1), int64(2), object(6)\n",
            "memory usage: 9.6+ MB\n"
          ]
        }
      ],
      "source": [
        "datos_limpios.info()  #para ver tipos de datos"
      ]
    },
    {
      "cell_type": "markdown",
      "id": "33de74da-be44-4905-8b72-04921d1fc02f",
      "metadata": {
        "id": "33de74da-be44-4905-8b72-04921d1fc02f"
      },
      "source": [
        "Una vez verificado la integridad de los datos, se genera archivo datos_limplios.csv"
      ]
    },
    {
      "cell_type": "code",
      "execution_count": null,
      "id": "6bc90c9c-749a-423b-9a8a-eee82f2efb86",
      "metadata": {
        "id": "6bc90c9c-749a-423b-9a8a-eee82f2efb86"
      },
      "outputs": [],
      "source": [
        "datos_limpios.to_csv('datos_limpios.csv', index=True)"
      ]
    },
    {
      "cell_type": "markdown",
      "id": "fdb72741-c90f-46f1-9872-1dee2513c992",
      "metadata": {
        "id": "fdb72741-c90f-46f1-9872-1dee2513c992"
      },
      "source": [
        "verificaciones finales:"
      ]
    },
    {
      "cell_type": "code",
      "execution_count": null,
      "id": "94311149-43d7-4585-b398-08585b305fb1",
      "metadata": {
        "id": "94311149-43d7-4585-b398-08585b305fb1"
      },
      "outputs": [],
      "source": [
        "df_final=pd.read_csv('datos_limpios.csv')"
      ]
    },
    {
      "cell_type": "code",
      "execution_count": null,
      "id": "a1153d09-b770-4ed2-965e-3c9f3970283c",
      "metadata": {
        "id": "a1153d09-b770-4ed2-965e-3c9f3970283c",
        "outputId": "46616870-f00c-4f3b-c8ab-1e2361ed6a4b"
      },
      "outputs": [
        {
          "data": {
            "text/html": [
              "<div>\n",
              "<style scoped>\n",
              "    .dataframe tbody tr th:only-of-type {\n",
              "        vertical-align: middle;\n",
              "    }\n",
              "\n",
              "    .dataframe tbody tr th {\n",
              "        vertical-align: top;\n",
              "    }\n",
              "\n",
              "    .dataframe thead th {\n",
              "        text-align: right;\n",
              "    }\n",
              "</style>\n",
              "<table border=\"1\" class=\"dataframe\">\n",
              "  <thead>\n",
              "    <tr style=\"text-align: right;\">\n",
              "      <th></th>\n",
              "      <th>customer_id</th>\n",
              "      <th>invoice_no</th>\n",
              "      <th>category</th>\n",
              "      <th>quantity</th>\n",
              "      <th>price</th>\n",
              "      <th>invoice_date</th>\n",
              "      <th>shopping_mall</th>\n",
              "      <th>gender</th>\n",
              "      <th>age</th>\n",
              "      <th>payment_method</th>\n",
              "    </tr>\n",
              "  </thead>\n",
              "  <tbody>\n",
              "    <tr>\n",
              "      <th>0</th>\n",
              "      <td>C241288</td>\n",
              "      <td>I138884</td>\n",
              "      <td>Clothing</td>\n",
              "      <td>5</td>\n",
              "      <td>1500.40</td>\n",
              "      <td>2022-08-05 00:00:00</td>\n",
              "      <td>Kanyon</td>\n",
              "      <td>Female</td>\n",
              "      <td>28</td>\n",
              "      <td>Credit Card</td>\n",
              "    </tr>\n",
              "    <tr>\n",
              "      <th>1</th>\n",
              "      <td>C111565</td>\n",
              "      <td>I317333</td>\n",
              "      <td>Shoes</td>\n",
              "      <td>3</td>\n",
              "      <td>1800.51</td>\n",
              "      <td>2021-12-12 00:00:00</td>\n",
              "      <td>Forum Istanbul</td>\n",
              "      <td>Male</td>\n",
              "      <td>21</td>\n",
              "      <td>Debit Card</td>\n",
              "    </tr>\n",
              "    <tr>\n",
              "      <th>2</th>\n",
              "      <td>C266599</td>\n",
              "      <td>I127801</td>\n",
              "      <td>Clothing</td>\n",
              "      <td>1</td>\n",
              "      <td>300.08</td>\n",
              "      <td>2021-11-09 00:00:00</td>\n",
              "      <td>Metrocity</td>\n",
              "      <td>Male</td>\n",
              "      <td>20</td>\n",
              "      <td>Cash</td>\n",
              "    </tr>\n",
              "    <tr>\n",
              "      <th>3</th>\n",
              "      <td>C988172</td>\n",
              "      <td>I173702</td>\n",
              "      <td>Shoes</td>\n",
              "      <td>5</td>\n",
              "      <td>3000.85</td>\n",
              "      <td>2021-05-16 00:00:00</td>\n",
              "      <td>Metropol AVM</td>\n",
              "      <td>Female</td>\n",
              "      <td>66</td>\n",
              "      <td>Credit Card</td>\n",
              "    </tr>\n",
              "    <tr>\n",
              "      <th>4</th>\n",
              "      <td>C189076</td>\n",
              "      <td>I337046</td>\n",
              "      <td>Books</td>\n",
              "      <td>4</td>\n",
              "      <td>60.60</td>\n",
              "      <td>2021-10-24 00:00:00</td>\n",
              "      <td>Kanyon</td>\n",
              "      <td>Female</td>\n",
              "      <td>53</td>\n",
              "      <td>Cash</td>\n",
              "    </tr>\n",
              "    <tr>\n",
              "      <th>...</th>\n",
              "      <td>...</td>\n",
              "      <td>...</td>\n",
              "      <td>...</td>\n",
              "      <td>...</td>\n",
              "      <td>...</td>\n",
              "      <td>...</td>\n",
              "      <td>...</td>\n",
              "      <td>...</td>\n",
              "      <td>...</td>\n",
              "      <td>...</td>\n",
              "    </tr>\n",
              "    <tr>\n",
              "      <th>99333</th>\n",
              "      <td>C441542</td>\n",
              "      <td>I219422</td>\n",
              "      <td>Souvenir</td>\n",
              "      <td>5</td>\n",
              "      <td>58.65</td>\n",
              "      <td>2022-09-21 00:00:00</td>\n",
              "      <td>Kanyon</td>\n",
              "      <td>Female</td>\n",
              "      <td>45</td>\n",
              "      <td>Credit Card</td>\n",
              "    </tr>\n",
              "    <tr>\n",
              "      <th>99334</th>\n",
              "      <td>C569580</td>\n",
              "      <td>I325143</td>\n",
              "      <td>Food &amp; Beverage</td>\n",
              "      <td>2</td>\n",
              "      <td>10.46</td>\n",
              "      <td>2021-09-22 00:00:00</td>\n",
              "      <td>Forum Istanbul</td>\n",
              "      <td>Male</td>\n",
              "      <td>27</td>\n",
              "      <td>Cash</td>\n",
              "    </tr>\n",
              "    <tr>\n",
              "      <th>99335</th>\n",
              "      <td>C103292</td>\n",
              "      <td>I824010</td>\n",
              "      <td>Food &amp; Beverage</td>\n",
              "      <td>2</td>\n",
              "      <td>10.46</td>\n",
              "      <td>2021-03-28 00:00:00</td>\n",
              "      <td>Metrocity</td>\n",
              "      <td>Male</td>\n",
              "      <td>63</td>\n",
              "      <td>Debit Card</td>\n",
              "    </tr>\n",
              "    <tr>\n",
              "      <th>99336</th>\n",
              "      <td>C800631</td>\n",
              "      <td>I702964</td>\n",
              "      <td>Technology</td>\n",
              "      <td>4</td>\n",
              "      <td>4200.00</td>\n",
              "      <td>2021-03-16 00:00:00</td>\n",
              "      <td>Istinye Park</td>\n",
              "      <td>Male</td>\n",
              "      <td>56</td>\n",
              "      <td>Cash</td>\n",
              "    </tr>\n",
              "    <tr>\n",
              "      <th>99337</th>\n",
              "      <td>C273973</td>\n",
              "      <td>I232867</td>\n",
              "      <td>Souvenir</td>\n",
              "      <td>3</td>\n",
              "      <td>35.19</td>\n",
              "      <td>2022-10-15 00:00:00</td>\n",
              "      <td>Mall of Istanbul</td>\n",
              "      <td>Female</td>\n",
              "      <td>36</td>\n",
              "      <td>Credit Card</td>\n",
              "    </tr>\n",
              "  </tbody>\n",
              "</table>\n",
              "<p>99338 rows × 10 columns</p>\n",
              "</div>"
            ],
            "text/plain": [
              "      customer_id invoice_no         category  quantity    price  \\\n",
              "0         C241288    I138884         Clothing         5  1500.40   \n",
              "1         C111565    I317333            Shoes         3  1800.51   \n",
              "2         C266599    I127801         Clothing         1   300.08   \n",
              "3         C988172    I173702            Shoes         5  3000.85   \n",
              "4         C189076    I337046            Books         4    60.60   \n",
              "...           ...        ...              ...       ...      ...   \n",
              "99333     C441542    I219422         Souvenir         5    58.65   \n",
              "99334     C569580    I325143  Food & Beverage         2    10.46   \n",
              "99335     C103292    I824010  Food & Beverage         2    10.46   \n",
              "99336     C800631    I702964       Technology         4  4200.00   \n",
              "99337     C273973    I232867         Souvenir         3    35.19   \n",
              "\n",
              "              invoice_date     shopping_mall  gender  age payment_method  \n",
              "0      2022-08-05 00:00:00            Kanyon  Female   28    Credit Card  \n",
              "1      2021-12-12 00:00:00    Forum Istanbul    Male   21     Debit Card  \n",
              "2      2021-11-09 00:00:00         Metrocity    Male   20           Cash  \n",
              "3      2021-05-16 00:00:00      Metropol AVM  Female   66    Credit Card  \n",
              "4      2021-10-24 00:00:00            Kanyon  Female   53           Cash  \n",
              "...                    ...               ...     ...  ...            ...  \n",
              "99333  2022-09-21 00:00:00            Kanyon  Female   45    Credit Card  \n",
              "99334  2021-09-22 00:00:00    Forum Istanbul    Male   27           Cash  \n",
              "99335  2021-03-28 00:00:00         Metrocity    Male   63     Debit Card  \n",
              "99336  2021-03-16 00:00:00      Istinye Park    Male   56           Cash  \n",
              "99337  2022-10-15 00:00:00  Mall of Istanbul  Female   36    Credit Card  \n",
              "\n",
              "[99338 rows x 10 columns]"
            ]
          },
          "execution_count": 64,
          "metadata": {},
          "output_type": "execute_result"
        }
      ],
      "source": [
        "df_final"
      ]
    },
    {
      "cell_type": "code",
      "execution_count": null,
      "id": "bb967230-7b4d-48b8-ab35-78a969aa3799",
      "metadata": {
        "id": "bb967230-7b4d-48b8-ab35-78a969aa3799",
        "outputId": "903d9225-1ac7-49a4-8da4-564ece3c9402"
      },
      "outputs": [
        {
          "name": "stdout",
          "output_type": "stream",
          "text": [
            "<class 'pandas.core.frame.DataFrame'>\n",
            "RangeIndex: 99338 entries, 0 to 99337\n",
            "Data columns (total 10 columns):\n",
            " #   Column          Non-Null Count  Dtype  \n",
            "---  ------          --------------  -----  \n",
            " 0   customer_id     99338 non-null  object \n",
            " 1   invoice_no      99338 non-null  object \n",
            " 2   category        99338 non-null  object \n",
            " 3   quantity        99338 non-null  int64  \n",
            " 4   price           99338 non-null  float64\n",
            " 5   invoice_date    99338 non-null  object \n",
            " 6   shopping_mall   99338 non-null  object \n",
            " 7   gender          99338 non-null  object \n",
            " 8   age             99338 non-null  int64  \n",
            " 9   payment_method  99338 non-null  object \n",
            "dtypes: float64(1), int64(2), object(7)\n",
            "memory usage: 7.6+ MB\n"
          ]
        }
      ],
      "source": [
        "df_final.info()\n"
      ]
    },
    {
      "cell_type": "markdown",
      "id": "901caf29-e92c-40b4-a9dd-61202895175b",
      "metadata": {
        "id": "901caf29-e92c-40b4-a9dd-61202895175b"
      },
      "source": [
        "Aca viene la parte de analisis: ver distribucion de edades,ventas segun metodos de pago, ventas segun genero y metodo de pago.  Esto sirve para el informe final y conclusiones\n"
      ]
    },
    {
      "cell_type": "code",
      "execution_count": null,
      "id": "151bcf38-ec34-43eb-b499-5695996f0232",
      "metadata": {
        "id": "151bcf38-ec34-43eb-b499-5695996f0232"
      },
      "outputs": [],
      "source": []
    }
  ],
  "metadata": {
    "kernelspec": {
      "display_name": "Python [conda env:base] *",
      "language": "python",
      "name": "conda-base-py"
    },
    "language_info": {
      "codemirror_mode": {
        "name": "ipython",
        "version": 3
      },
      "file_extension": ".py",
      "mimetype": "text/x-python",
      "name": "python",
      "nbconvert_exporter": "python",
      "pygments_lexer": "ipython3",
      "version": "3.13.5"
    },
    "colab": {
      "provenance": [],
      "include_colab_link": true
    }
  },
  "nbformat": 4,
  "nbformat_minor": 5
}