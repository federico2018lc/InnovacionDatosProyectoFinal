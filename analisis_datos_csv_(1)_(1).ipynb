{
  "cells": [
    {
      "cell_type": "markdown",
      "metadata": {
        "id": "view-in-github",
        "colab_type": "text"
      },
      "source": [
        "<a href=\"https://colab.research.google.com/github/federico2018lc/InnovacionDatosProyectoFinal/blob/main/analisis_datos_csv_(1)_(1).ipynb\" target=\"_parent\"><img src=\"https://colab.research.google.com/assets/colab-badge.svg\" alt=\"Open In Colab\"/></a>"
      ]
    },
    {
      "cell_type": "markdown",
      "id": "4df48b79-2ea9-4a80-af69-e3f8d1152c16",
      "metadata": {
        "id": "4df48b79-2ea9-4a80-af69-e3f8d1152c16"
      },
      "source": [
        "Etapa preparacion y  extraccion: Para comenzar el analisis, importamos las librerias a utilizar y cargamos los archivos csv para luego realizar etl"
      ]
    },
    {
      "cell_type": "code",
      "execution_count": null,
      "id": "59c0ebd7-c65d-4b85-9f45-344807912a40",
      "metadata": {
        "id": "59c0ebd7-c65d-4b85-9f45-344807912a40"
      },
      "outputs": [],
      "source": [
        "import pandas as pd\n",
        "import numpy as np"
      ]
    },
    {
      "cell_type": "code",
      "execution_count": null,
      "id": "cab5f763-8d7c-4079-97c8-6e6954e8f0d5",
      "metadata": {
        "id": "cab5f763-8d7c-4079-97c8-6e6954e8f0d5"
      },
      "outputs": [],
      "source": [
        "clientes=pd.read_csv( 'customer_data.csv')\n",
        "ventas= pd.read_csv('sales_data.csv')\n"
      ]
    },
    {
      "cell_type": "code",
      "execution_count": null,
      "id": "5184cadc-f0c0-442a-8f26-632d12d603e7",
      "metadata": {
        "id": "5184cadc-f0c0-442a-8f26-632d12d603e7",
        "outputId": "64e19b4b-1d54-4714-a8a9-527be2c3c8c5"
      },
      "outputs": [
        {
          "data": {
            "text/html": [
              "<div>\n",
              "<style scoped>\n",
              "    .dataframe tbody tr th:only-of-type {\n",
              "        vertical-align: middle;\n",
              "    }\n",
              "\n",
              "    .dataframe tbody tr th {\n",
              "        vertical-align: top;\n",
              "    }\n",
              "\n",
              "    .dataframe thead th {\n",
              "        text-align: right;\n",
              "    }\n",
              "</style>\n",
              "<table border=\"1\" class=\"dataframe\">\n",
              "  <thead>\n",
              "    <tr style=\"text-align: right;\">\n",
              "      <th></th>\n",
              "      <th>customer_id</th>\n",
              "      <th>gender</th>\n",
              "      <th>age</th>\n",
              "      <th>payment_method</th>\n",
              "    </tr>\n",
              "  </thead>\n",
              "  <tbody>\n",
              "    <tr>\n",
              "      <th>0</th>\n",
              "      <td>C241288</td>\n",
              "      <td>Female</td>\n",
              "      <td>28.0</td>\n",
              "      <td>Credit Card</td>\n",
              "    </tr>\n",
              "    <tr>\n",
              "      <th>1</th>\n",
              "      <td>C111565</td>\n",
              "      <td>Male</td>\n",
              "      <td>21.0</td>\n",
              "      <td>Debit Card</td>\n",
              "    </tr>\n",
              "    <tr>\n",
              "      <th>2</th>\n",
              "      <td>C266599</td>\n",
              "      <td>Male</td>\n",
              "      <td>20.0</td>\n",
              "      <td>Cash</td>\n",
              "    </tr>\n",
              "    <tr>\n",
              "      <th>3</th>\n",
              "      <td>C988172</td>\n",
              "      <td>Female</td>\n",
              "      <td>66.0</td>\n",
              "      <td>Credit Card</td>\n",
              "    </tr>\n",
              "    <tr>\n",
              "      <th>4</th>\n",
              "      <td>C189076</td>\n",
              "      <td>Female</td>\n",
              "      <td>53.0</td>\n",
              "      <td>Cash</td>\n",
              "    </tr>\n",
              "    <tr>\n",
              "      <th>...</th>\n",
              "      <td>...</td>\n",
              "      <td>...</td>\n",
              "      <td>...</td>\n",
              "      <td>...</td>\n",
              "    </tr>\n",
              "    <tr>\n",
              "      <th>99452</th>\n",
              "      <td>C441542</td>\n",
              "      <td>Female</td>\n",
              "      <td>45.0</td>\n",
              "      <td>Credit Card</td>\n",
              "    </tr>\n",
              "    <tr>\n",
              "      <th>99453</th>\n",
              "      <td>C569580</td>\n",
              "      <td>Male</td>\n",
              "      <td>27.0</td>\n",
              "      <td>Cash</td>\n",
              "    </tr>\n",
              "    <tr>\n",
              "      <th>99454</th>\n",
              "      <td>C103292</td>\n",
              "      <td>Male</td>\n",
              "      <td>63.0</td>\n",
              "      <td>Debit Card</td>\n",
              "    </tr>\n",
              "    <tr>\n",
              "      <th>99455</th>\n",
              "      <td>C800631</td>\n",
              "      <td>Male</td>\n",
              "      <td>56.0</td>\n",
              "      <td>Cash</td>\n",
              "    </tr>\n",
              "    <tr>\n",
              "      <th>99456</th>\n",
              "      <td>C273973</td>\n",
              "      <td>Female</td>\n",
              "      <td>36.0</td>\n",
              "      <td>Credit Card</td>\n",
              "    </tr>\n",
              "  </tbody>\n",
              "</table>\n",
              "<p>99457 rows × 4 columns</p>\n",
              "</div>"
            ],
            "text/plain": [
              "      customer_id  gender   age payment_method\n",
              "0         C241288  Female  28.0    Credit Card\n",
              "1         C111565    Male  21.0     Debit Card\n",
              "2         C266599    Male  20.0           Cash\n",
              "3         C988172  Female  66.0    Credit Card\n",
              "4         C189076  Female  53.0           Cash\n",
              "...           ...     ...   ...            ...\n",
              "99452     C441542  Female  45.0    Credit Card\n",
              "99453     C569580    Male  27.0           Cash\n",
              "99454     C103292    Male  63.0     Debit Card\n",
              "99455     C800631    Male  56.0           Cash\n",
              "99456     C273973  Female  36.0    Credit Card\n",
              "\n",
              "[99457 rows x 4 columns]"
            ]
          },
          "execution_count": 120,
          "metadata": {},
          "output_type": "execute_result"
        }
      ],
      "source": [
        "clientes\n"
      ]
    },
    {
      "cell_type": "code",
      "execution_count": null,
      "id": "7f0cefa7-ad37-42ce-a539-25bbfec8d0c0",
      "metadata": {
        "id": "7f0cefa7-ad37-42ce-a539-25bbfec8d0c0",
        "outputId": "7103d313-6fd2-4aa1-c4bf-d09e6587040d"
      },
      "outputs": [
        {
          "data": {
            "text/html": [
              "<div>\n",
              "<style scoped>\n",
              "    .dataframe tbody tr th:only-of-type {\n",
              "        vertical-align: middle;\n",
              "    }\n",
              "\n",
              "    .dataframe tbody tr th {\n",
              "        vertical-align: top;\n",
              "    }\n",
              "\n",
              "    .dataframe thead th {\n",
              "        text-align: right;\n",
              "    }\n",
              "</style>\n",
              "<table border=\"1\" class=\"dataframe\">\n",
              "  <thead>\n",
              "    <tr style=\"text-align: right;\">\n",
              "      <th></th>\n",
              "      <th>invoice_no</th>\n",
              "      <th>customer_id</th>\n",
              "      <th>category</th>\n",
              "      <th>quantity</th>\n",
              "      <th>price</th>\n",
              "      <th>invoice_date</th>\n",
              "      <th>shopping_mall</th>\n",
              "    </tr>\n",
              "  </thead>\n",
              "  <tbody>\n",
              "    <tr>\n",
              "      <th>0</th>\n",
              "      <td>I138884</td>\n",
              "      <td>C241288</td>\n",
              "      <td>Clothing</td>\n",
              "      <td>5</td>\n",
              "      <td>1500.40</td>\n",
              "      <td>05-08-2022</td>\n",
              "      <td>Kanyon</td>\n",
              "    </tr>\n",
              "    <tr>\n",
              "      <th>1</th>\n",
              "      <td>I317333</td>\n",
              "      <td>C111565</td>\n",
              "      <td>Shoes</td>\n",
              "      <td>3</td>\n",
              "      <td>1800.51</td>\n",
              "      <td>12-12-2021</td>\n",
              "      <td>Forum Istanbul</td>\n",
              "    </tr>\n",
              "    <tr>\n",
              "      <th>2</th>\n",
              "      <td>I127801</td>\n",
              "      <td>C266599</td>\n",
              "      <td>Clothing</td>\n",
              "      <td>1</td>\n",
              "      <td>300.08</td>\n",
              "      <td>09-11-2021</td>\n",
              "      <td>Metrocity</td>\n",
              "    </tr>\n",
              "    <tr>\n",
              "      <th>3</th>\n",
              "      <td>I173702</td>\n",
              "      <td>C988172</td>\n",
              "      <td>Shoes</td>\n",
              "      <td>5</td>\n",
              "      <td>3000.85</td>\n",
              "      <td>16-05-2021</td>\n",
              "      <td>Metropol AVM</td>\n",
              "    </tr>\n",
              "    <tr>\n",
              "      <th>4</th>\n",
              "      <td>I337046</td>\n",
              "      <td>C189076</td>\n",
              "      <td>Books</td>\n",
              "      <td>4</td>\n",
              "      <td>60.60</td>\n",
              "      <td>24-10-2021</td>\n",
              "      <td>Kanyon</td>\n",
              "    </tr>\n",
              "    <tr>\n",
              "      <th>...</th>\n",
              "      <td>...</td>\n",
              "      <td>...</td>\n",
              "      <td>...</td>\n",
              "      <td>...</td>\n",
              "      <td>...</td>\n",
              "      <td>...</td>\n",
              "      <td>...</td>\n",
              "    </tr>\n",
              "    <tr>\n",
              "      <th>99452</th>\n",
              "      <td>I219422</td>\n",
              "      <td>C441542</td>\n",
              "      <td>Souvenir</td>\n",
              "      <td>5</td>\n",
              "      <td>58.65</td>\n",
              "      <td>21-09-2022</td>\n",
              "      <td>Kanyon</td>\n",
              "    </tr>\n",
              "    <tr>\n",
              "      <th>99453</th>\n",
              "      <td>I325143</td>\n",
              "      <td>C569580</td>\n",
              "      <td>Food &amp; Beverage</td>\n",
              "      <td>2</td>\n",
              "      <td>10.46</td>\n",
              "      <td>22-09-2021</td>\n",
              "      <td>Forum Istanbul</td>\n",
              "    </tr>\n",
              "    <tr>\n",
              "      <th>99454</th>\n",
              "      <td>I824010</td>\n",
              "      <td>C103292</td>\n",
              "      <td>Food &amp; Beverage</td>\n",
              "      <td>2</td>\n",
              "      <td>10.46</td>\n",
              "      <td>28-03-2021</td>\n",
              "      <td>Metrocity</td>\n",
              "    </tr>\n",
              "    <tr>\n",
              "      <th>99455</th>\n",
              "      <td>I702964</td>\n",
              "      <td>C800631</td>\n",
              "      <td>Technology</td>\n",
              "      <td>4</td>\n",
              "      <td>4200.00</td>\n",
              "      <td>16-03-2021</td>\n",
              "      <td>Istinye Park</td>\n",
              "    </tr>\n",
              "    <tr>\n",
              "      <th>99456</th>\n",
              "      <td>I232867</td>\n",
              "      <td>C273973</td>\n",
              "      <td>Souvenir</td>\n",
              "      <td>3</td>\n",
              "      <td>35.19</td>\n",
              "      <td>15-10-2022</td>\n",
              "      <td>Mall of Istanbul</td>\n",
              "    </tr>\n",
              "  </tbody>\n",
              "</table>\n",
              "<p>99457 rows × 7 columns</p>\n",
              "</div>"
            ],
            "text/plain": [
              "      invoice_no customer_id         category  quantity    price invoice_date  \\\n",
              "0        I138884     C241288         Clothing         5  1500.40   05-08-2022   \n",
              "1        I317333     C111565            Shoes         3  1800.51   12-12-2021   \n",
              "2        I127801     C266599         Clothing         1   300.08   09-11-2021   \n",
              "3        I173702     C988172            Shoes         5  3000.85   16-05-2021   \n",
              "4        I337046     C189076            Books         4    60.60   24-10-2021   \n",
              "...          ...         ...              ...       ...      ...          ...   \n",
              "99452    I219422     C441542         Souvenir         5    58.65   21-09-2022   \n",
              "99453    I325143     C569580  Food & Beverage         2    10.46   22-09-2021   \n",
              "99454    I824010     C103292  Food & Beverage         2    10.46   28-03-2021   \n",
              "99455    I702964     C800631       Technology         4  4200.00   16-03-2021   \n",
              "99456    I232867     C273973         Souvenir         3    35.19   15-10-2022   \n",
              "\n",
              "          shopping_mall  \n",
              "0                Kanyon  \n",
              "1        Forum Istanbul  \n",
              "2             Metrocity  \n",
              "3          Metropol AVM  \n",
              "4                Kanyon  \n",
              "...                 ...  \n",
              "99452            Kanyon  \n",
              "99453    Forum Istanbul  \n",
              "99454         Metrocity  \n",
              "99455      Istinye Park  \n",
              "99456  Mall of Istanbul  \n",
              "\n",
              "[99457 rows x 7 columns]"
            ]
          },
          "execution_count": 121,
          "metadata": {},
          "output_type": "execute_result"
        }
      ],
      "source": [
        "ventas\n"
      ]
    },
    {
      "cell_type": "code",
      "execution_count": null,
      "id": "4b310867-3a53-4cdc-8cfb-eedabaaf2b23",
      "metadata": {
        "id": "4b310867-3a53-4cdc-8cfb-eedabaaf2b23",
        "outputId": "4d0a765b-263d-48ce-95ec-b981bd4ce9ae"
      },
      "outputs": [
        {
          "data": {
            "text/html": [
              "<div>\n",
              "<style scoped>\n",
              "    .dataframe tbody tr th:only-of-type {\n",
              "        vertical-align: middle;\n",
              "    }\n",
              "\n",
              "    .dataframe tbody tr th {\n",
              "        vertical-align: top;\n",
              "    }\n",
              "\n",
              "    .dataframe thead th {\n",
              "        text-align: right;\n",
              "    }\n",
              "</style>\n",
              "<table border=\"1\" class=\"dataframe\">\n",
              "  <thead>\n",
              "    <tr style=\"text-align: right;\">\n",
              "      <th></th>\n",
              "      <th>customer_id</th>\n",
              "      <th>gender</th>\n",
              "      <th>age</th>\n",
              "      <th>payment_method</th>\n",
              "    </tr>\n",
              "  </thead>\n",
              "  <tbody>\n",
              "    <tr>\n",
              "      <th>0</th>\n",
              "      <td>C241288</td>\n",
              "      <td>Female</td>\n",
              "      <td>28.0</td>\n",
              "      <td>Credit Card</td>\n",
              "    </tr>\n",
              "    <tr>\n",
              "      <th>1</th>\n",
              "      <td>C111565</td>\n",
              "      <td>Male</td>\n",
              "      <td>21.0</td>\n",
              "      <td>Debit Card</td>\n",
              "    </tr>\n",
              "    <tr>\n",
              "      <th>2</th>\n",
              "      <td>C266599</td>\n",
              "      <td>Male</td>\n",
              "      <td>20.0</td>\n",
              "      <td>Cash</td>\n",
              "    </tr>\n",
              "    <tr>\n",
              "      <th>3</th>\n",
              "      <td>C988172</td>\n",
              "      <td>Female</td>\n",
              "      <td>66.0</td>\n",
              "      <td>Credit Card</td>\n",
              "    </tr>\n",
              "    <tr>\n",
              "      <th>4</th>\n",
              "      <td>C189076</td>\n",
              "      <td>Female</td>\n",
              "      <td>53.0</td>\n",
              "      <td>Cash</td>\n",
              "    </tr>\n",
              "  </tbody>\n",
              "</table>\n",
              "</div>"
            ],
            "text/plain": [
              "  customer_id  gender   age payment_method\n",
              "0     C241288  Female  28.0    Credit Card\n",
              "1     C111565    Male  21.0     Debit Card\n",
              "2     C266599    Male  20.0           Cash\n",
              "3     C988172  Female  66.0    Credit Card\n",
              "4     C189076  Female  53.0           Cash"
            ]
          },
          "execution_count": 13,
          "metadata": {},
          "output_type": "execute_result"
        }
      ],
      "source": [
        "clientes.head()\n"
      ]
    },
    {
      "cell_type": "code",
      "execution_count": null,
      "id": "80b6eb14-328d-428d-8e0c-4b5676351821",
      "metadata": {
        "id": "80b6eb14-328d-428d-8e0c-4b5676351821",
        "outputId": "40fe3002-b305-4c26-e5fd-69fb041e264d"
      },
      "outputs": [
        {
          "data": {
            "text/html": [
              "<div>\n",
              "<style scoped>\n",
              "    .dataframe tbody tr th:only-of-type {\n",
              "        vertical-align: middle;\n",
              "    }\n",
              "\n",
              "    .dataframe tbody tr th {\n",
              "        vertical-align: top;\n",
              "    }\n",
              "\n",
              "    .dataframe thead th {\n",
              "        text-align: right;\n",
              "    }\n",
              "</style>\n",
              "<table border=\"1\" class=\"dataframe\">\n",
              "  <thead>\n",
              "    <tr style=\"text-align: right;\">\n",
              "      <th></th>\n",
              "      <th>invoice_no</th>\n",
              "      <th>customer_id</th>\n",
              "      <th>category</th>\n",
              "      <th>quantity</th>\n",
              "      <th>price</th>\n",
              "      <th>invoice_date</th>\n",
              "      <th>shopping_mall</th>\n",
              "    </tr>\n",
              "  </thead>\n",
              "  <tbody>\n",
              "    <tr>\n",
              "      <th>0</th>\n",
              "      <td>I138884</td>\n",
              "      <td>C241288</td>\n",
              "      <td>Clothing</td>\n",
              "      <td>5</td>\n",
              "      <td>1500.40</td>\n",
              "      <td>05-08-2022</td>\n",
              "      <td>Kanyon</td>\n",
              "    </tr>\n",
              "    <tr>\n",
              "      <th>1</th>\n",
              "      <td>I317333</td>\n",
              "      <td>C111565</td>\n",
              "      <td>Shoes</td>\n",
              "      <td>3</td>\n",
              "      <td>1800.51</td>\n",
              "      <td>12-12-2021</td>\n",
              "      <td>Forum Istanbul</td>\n",
              "    </tr>\n",
              "    <tr>\n",
              "      <th>2</th>\n",
              "      <td>I127801</td>\n",
              "      <td>C266599</td>\n",
              "      <td>Clothing</td>\n",
              "      <td>1</td>\n",
              "      <td>300.08</td>\n",
              "      <td>09-11-2021</td>\n",
              "      <td>Metrocity</td>\n",
              "    </tr>\n",
              "    <tr>\n",
              "      <th>3</th>\n",
              "      <td>I173702</td>\n",
              "      <td>C988172</td>\n",
              "      <td>Shoes</td>\n",
              "      <td>5</td>\n",
              "      <td>3000.85</td>\n",
              "      <td>16-05-2021</td>\n",
              "      <td>Metropol AVM</td>\n",
              "    </tr>\n",
              "    <tr>\n",
              "      <th>4</th>\n",
              "      <td>I337046</td>\n",
              "      <td>C189076</td>\n",
              "      <td>Books</td>\n",
              "      <td>4</td>\n",
              "      <td>60.60</td>\n",
              "      <td>24-10-2021</td>\n",
              "      <td>Kanyon</td>\n",
              "    </tr>\n",
              "  </tbody>\n",
              "</table>\n",
              "</div>"
            ],
            "text/plain": [
              "  invoice_no customer_id  category  quantity    price invoice_date  \\\n",
              "0    I138884     C241288  Clothing         5  1500.40   05-08-2022   \n",
              "1    I317333     C111565     Shoes         3  1800.51   12-12-2021   \n",
              "2    I127801     C266599  Clothing         1   300.08   09-11-2021   \n",
              "3    I173702     C988172     Shoes         5  3000.85   16-05-2021   \n",
              "4    I337046     C189076     Books         4    60.60   24-10-2021   \n",
              "\n",
              "    shopping_mall  \n",
              "0          Kanyon  \n",
              "1  Forum Istanbul  \n",
              "2       Metrocity  \n",
              "3    Metropol AVM  \n",
              "4          Kanyon  "
            ]
          },
          "execution_count": 12,
          "metadata": {},
          "output_type": "execute_result"
        }
      ],
      "source": [
        "ventas.head()"
      ]
    },
    {
      "cell_type": "code",
      "execution_count": null,
      "id": "46e5fa16-65f0-47d2-89d9-947bb3887cd2",
      "metadata": {
        "id": "46e5fa16-65f0-47d2-89d9-947bb3887cd2",
        "outputId": "a9c9f1e6-f685-4db6-9c40-0f5422c8425a"
      },
      "outputs": [
        {
          "name": "stdout",
          "output_type": "stream",
          "text": [
            "<class 'pandas.core.frame.DataFrame'>\n",
            "RangeIndex: 99457 entries, 0 to 99456\n",
            "Data columns (total 4 columns):\n",
            " #   Column          Non-Null Count  Dtype  \n",
            "---  ------          --------------  -----  \n",
            " 0   customer_id     99457 non-null  object \n",
            " 1   gender          99457 non-null  object \n",
            " 2   age             99338 non-null  float64\n",
            " 3   payment_method  99457 non-null  object \n",
            "dtypes: float64(1), object(3)\n",
            "memory usage: 3.0+ MB\n"
          ]
        }
      ],
      "source": [
        "clientes.info()"
      ]
    },
    {
      "cell_type": "code",
      "execution_count": null,
      "id": "34a79243-cec6-49ec-8d61-4bf476f6a788",
      "metadata": {
        "id": "34a79243-cec6-49ec-8d61-4bf476f6a788",
        "outputId": "d3d93183-2847-40fe-fac2-d71e0006df40"
      },
      "outputs": [
        {
          "name": "stdout",
          "output_type": "stream",
          "text": [
            "<class 'pandas.core.frame.DataFrame'>\n",
            "Index: 99338 entries, C241288 to C273973\n",
            "Data columns (total 3 columns):\n",
            " #   Column          Non-Null Count  Dtype \n",
            "---  ------          --------------  ----- \n",
            " 0   gender          99338 non-null  object\n",
            " 1   age             99338 non-null  int64 \n",
            " 2   payment_method  99338 non-null  object\n",
            "dtypes: int64(1), object(2)\n",
            "memory usage: 5.0+ MB\n"
          ]
        }
      ],
      "source": [
        "clientes.info()"
      ]
    },
    {
      "cell_type": "code",
      "execution_count": null,
      "id": "05b60f12-4eb6-404f-9d9d-682074ac8540",
      "metadata": {
        "id": "05b60f12-4eb6-404f-9d9d-682074ac8540",
        "outputId": "7a482d41-d35b-426e-ead9-46ab744cd57d"
      },
      "outputs": [
        {
          "name": "stdout",
          "output_type": "stream",
          "text": [
            "<class 'pandas.core.frame.DataFrame'>\n",
            "Index: 99457 entries, C241288 to C273973\n",
            "Data columns (total 6 columns):\n",
            " #   Column         Non-Null Count  Dtype         \n",
            "---  ------         --------------  -----         \n",
            " 0   invoice_no     99457 non-null  object        \n",
            " 1   category       99457 non-null  object        \n",
            " 2   quantity       99457 non-null  int64         \n",
            " 3   price          99457 non-null  float64       \n",
            " 4   invoice_date   99457 non-null  datetime64[ns]\n",
            " 5   shopping_mall  99457 non-null  object        \n",
            "dtypes: datetime64[ns](1), float64(1), int64(1), object(3)\n",
            "memory usage: 5.3+ MB\n"
          ]
        }
      ],
      "source": [
        "ventas.info()"
      ]
    },
    {
      "cell_type": "markdown",
      "id": "ee0bf1e9-ad61-41f8-a7e7-73957c880c91",
      "metadata": {
        "id": "ee0bf1e9-ad61-41f8-a7e7-73957c880c91"
      },
      "source": [
        "con las sentencias anteriores, pudimos observar que tipo de datos contiene cada data set ( objects: innvoice no, customerid, gender, payment method, category, invoice date, shopping mall), float (age, price) e int (quantity). Observamos que tienen en comun la columna customer_id y que las primeras columnas pueden ser eliminadas(contienen un indice) ya que usaremos la columna id"
      ]
    },
    {
      "cell_type": "markdown",
      "id": "2c579980-4c13-4fdb-8c0b-78bbb5adef44",
      "metadata": {
        "id": "2c579980-4c13-4fdb-8c0b-78bbb5adef44"
      },
      "source": [
        "Etapa: transformación y limpieza de datos"
      ]
    },
    {
      "cell_type": "code",
      "execution_count": null,
      "id": "d1f61dca-55e2-4f5a-a0c8-c43cfc18fa13",
      "metadata": {
        "id": "d1f61dca-55e2-4f5a-a0c8-c43cfc18fa13"
      },
      "outputs": [],
      "source": [
        "clientes=pd.read_csv( 'customer_data.csv',index_col='customer_id') # ordendo por columna customer id"
      ]
    },
    {
      "cell_type": "code",
      "execution_count": null,
      "id": "ffb49990-74a2-49c3-8073-c93e4019eb9f",
      "metadata": {
        "id": "ffb49990-74a2-49c3-8073-c93e4019eb9f",
        "outputId": "8ecf341c-4d98-4190-cabf-5116aaca85ac"
      },
      "outputs": [
        {
          "data": {
            "text/html": [
              "<div>\n",
              "<style scoped>\n",
              "    .dataframe tbody tr th:only-of-type {\n",
              "        vertical-align: middle;\n",
              "    }\n",
              "\n",
              "    .dataframe tbody tr th {\n",
              "        vertical-align: top;\n",
              "    }\n",
              "\n",
              "    .dataframe thead th {\n",
              "        text-align: right;\n",
              "    }\n",
              "</style>\n",
              "<table border=\"1\" class=\"dataframe\">\n",
              "  <thead>\n",
              "    <tr style=\"text-align: right;\">\n",
              "      <th></th>\n",
              "      <th>gender</th>\n",
              "      <th>age</th>\n",
              "      <th>payment_method</th>\n",
              "    </tr>\n",
              "    <tr>\n",
              "      <th>customer_id</th>\n",
              "      <th></th>\n",
              "      <th></th>\n",
              "      <th></th>\n",
              "    </tr>\n",
              "  </thead>\n",
              "  <tbody>\n",
              "    <tr>\n",
              "      <th>C241288</th>\n",
              "      <td>Female</td>\n",
              "      <td>28.0</td>\n",
              "      <td>Credit Card</td>\n",
              "    </tr>\n",
              "    <tr>\n",
              "      <th>C111565</th>\n",
              "      <td>Male</td>\n",
              "      <td>21.0</td>\n",
              "      <td>Debit Card</td>\n",
              "    </tr>\n",
              "    <tr>\n",
              "      <th>C266599</th>\n",
              "      <td>Male</td>\n",
              "      <td>20.0</td>\n",
              "      <td>Cash</td>\n",
              "    </tr>\n",
              "    <tr>\n",
              "      <th>C988172</th>\n",
              "      <td>Female</td>\n",
              "      <td>66.0</td>\n",
              "      <td>Credit Card</td>\n",
              "    </tr>\n",
              "    <tr>\n",
              "      <th>C189076</th>\n",
              "      <td>Female</td>\n",
              "      <td>53.0</td>\n",
              "      <td>Cash</td>\n",
              "    </tr>\n",
              "    <tr>\n",
              "      <th>...</th>\n",
              "      <td>...</td>\n",
              "      <td>...</td>\n",
              "      <td>...</td>\n",
              "    </tr>\n",
              "    <tr>\n",
              "      <th>C441542</th>\n",
              "      <td>Female</td>\n",
              "      <td>45.0</td>\n",
              "      <td>Credit Card</td>\n",
              "    </tr>\n",
              "    <tr>\n",
              "      <th>C569580</th>\n",
              "      <td>Male</td>\n",
              "      <td>27.0</td>\n",
              "      <td>Cash</td>\n",
              "    </tr>\n",
              "    <tr>\n",
              "      <th>C103292</th>\n",
              "      <td>Male</td>\n",
              "      <td>63.0</td>\n",
              "      <td>Debit Card</td>\n",
              "    </tr>\n",
              "    <tr>\n",
              "      <th>C800631</th>\n",
              "      <td>Male</td>\n",
              "      <td>56.0</td>\n",
              "      <td>Cash</td>\n",
              "    </tr>\n",
              "    <tr>\n",
              "      <th>C273973</th>\n",
              "      <td>Female</td>\n",
              "      <td>36.0</td>\n",
              "      <td>Credit Card</td>\n",
              "    </tr>\n",
              "  </tbody>\n",
              "</table>\n",
              "<p>99457 rows × 3 columns</p>\n",
              "</div>"
            ],
            "text/plain": [
              "             gender   age payment_method\n",
              "customer_id                             \n",
              "C241288      Female  28.0    Credit Card\n",
              "C111565        Male  21.0     Debit Card\n",
              "C266599        Male  20.0           Cash\n",
              "C988172      Female  66.0    Credit Card\n",
              "C189076      Female  53.0           Cash\n",
              "...             ...   ...            ...\n",
              "C441542      Female  45.0    Credit Card\n",
              "C569580        Male  27.0           Cash\n",
              "C103292        Male  63.0     Debit Card\n",
              "C800631        Male  56.0           Cash\n",
              "C273973      Female  36.0    Credit Card\n",
              "\n",
              "[99457 rows x 3 columns]"
            ]
          },
          "execution_count": 20,
          "metadata": {},
          "output_type": "execute_result"
        }
      ],
      "source": [
        "clientes"
      ]
    },
    {
      "cell_type": "code",
      "execution_count": null,
      "id": "91b7bb9f-e112-493a-b731-fe90757d75a0",
      "metadata": {
        "id": "91b7bb9f-e112-493a-b731-fe90757d75a0"
      },
      "outputs": [],
      "source": [
        "ventas= pd.read_csv('sales_data.csv', index_col= 'customer_id') # ordendo por columna customer id"
      ]
    },
    {
      "cell_type": "code",
      "execution_count": null,
      "id": "733f561d-9181-4752-866f-4fc1d9a59a70",
      "metadata": {
        "id": "733f561d-9181-4752-866f-4fc1d9a59a70",
        "outputId": "396d9e12-efc5-401d-b563-da451b4a2e03"
      },
      "outputs": [
        {
          "data": {
            "text/html": [
              "<div>\n",
              "<style scoped>\n",
              "    .dataframe tbody tr th:only-of-type {\n",
              "        vertical-align: middle;\n",
              "    }\n",
              "\n",
              "    .dataframe tbody tr th {\n",
              "        vertical-align: top;\n",
              "    }\n",
              "\n",
              "    .dataframe thead th {\n",
              "        text-align: right;\n",
              "    }\n",
              "</style>\n",
              "<table border=\"1\" class=\"dataframe\">\n",
              "  <thead>\n",
              "    <tr style=\"text-align: right;\">\n",
              "      <th></th>\n",
              "      <th>invoice_no</th>\n",
              "      <th>category</th>\n",
              "      <th>quantity</th>\n",
              "      <th>price</th>\n",
              "      <th>invoice_date</th>\n",
              "      <th>shopping_mall</th>\n",
              "    </tr>\n",
              "    <tr>\n",
              "      <th>customer_id</th>\n",
              "      <th></th>\n",
              "      <th></th>\n",
              "      <th></th>\n",
              "      <th></th>\n",
              "      <th></th>\n",
              "      <th></th>\n",
              "    </tr>\n",
              "  </thead>\n",
              "  <tbody>\n",
              "    <tr>\n",
              "      <th>C241288</th>\n",
              "      <td>I138884</td>\n",
              "      <td>Clothing</td>\n",
              "      <td>5</td>\n",
              "      <td>1500.40</td>\n",
              "      <td>05-08-2022</td>\n",
              "      <td>Kanyon</td>\n",
              "    </tr>\n",
              "    <tr>\n",
              "      <th>C111565</th>\n",
              "      <td>I317333</td>\n",
              "      <td>Shoes</td>\n",
              "      <td>3</td>\n",
              "      <td>1800.51</td>\n",
              "      <td>12-12-2021</td>\n",
              "      <td>Forum Istanbul</td>\n",
              "    </tr>\n",
              "    <tr>\n",
              "      <th>C266599</th>\n",
              "      <td>I127801</td>\n",
              "      <td>Clothing</td>\n",
              "      <td>1</td>\n",
              "      <td>300.08</td>\n",
              "      <td>09-11-2021</td>\n",
              "      <td>Metrocity</td>\n",
              "    </tr>\n",
              "    <tr>\n",
              "      <th>C988172</th>\n",
              "      <td>I173702</td>\n",
              "      <td>Shoes</td>\n",
              "      <td>5</td>\n",
              "      <td>3000.85</td>\n",
              "      <td>16-05-2021</td>\n",
              "      <td>Metropol AVM</td>\n",
              "    </tr>\n",
              "    <tr>\n",
              "      <th>C189076</th>\n",
              "      <td>I337046</td>\n",
              "      <td>Books</td>\n",
              "      <td>4</td>\n",
              "      <td>60.60</td>\n",
              "      <td>24-10-2021</td>\n",
              "      <td>Kanyon</td>\n",
              "    </tr>\n",
              "    <tr>\n",
              "      <th>...</th>\n",
              "      <td>...</td>\n",
              "      <td>...</td>\n",
              "      <td>...</td>\n",
              "      <td>...</td>\n",
              "      <td>...</td>\n",
              "      <td>...</td>\n",
              "    </tr>\n",
              "    <tr>\n",
              "      <th>C441542</th>\n",
              "      <td>I219422</td>\n",
              "      <td>Souvenir</td>\n",
              "      <td>5</td>\n",
              "      <td>58.65</td>\n",
              "      <td>21-09-2022</td>\n",
              "      <td>Kanyon</td>\n",
              "    </tr>\n",
              "    <tr>\n",
              "      <th>C569580</th>\n",
              "      <td>I325143</td>\n",
              "      <td>Food &amp; Beverage</td>\n",
              "      <td>2</td>\n",
              "      <td>10.46</td>\n",
              "      <td>22-09-2021</td>\n",
              "      <td>Forum Istanbul</td>\n",
              "    </tr>\n",
              "    <tr>\n",
              "      <th>C103292</th>\n",
              "      <td>I824010</td>\n",
              "      <td>Food &amp; Beverage</td>\n",
              "      <td>2</td>\n",
              "      <td>10.46</td>\n",
              "      <td>28-03-2021</td>\n",
              "      <td>Metrocity</td>\n",
              "    </tr>\n",
              "    <tr>\n",
              "      <th>C800631</th>\n",
              "      <td>I702964</td>\n",
              "      <td>Technology</td>\n",
              "      <td>4</td>\n",
              "      <td>4200.00</td>\n",
              "      <td>16-03-2021</td>\n",
              "      <td>Istinye Park</td>\n",
              "    </tr>\n",
              "    <tr>\n",
              "      <th>C273973</th>\n",
              "      <td>I232867</td>\n",
              "      <td>Souvenir</td>\n",
              "      <td>3</td>\n",
              "      <td>35.19</td>\n",
              "      <td>15-10-2022</td>\n",
              "      <td>Mall of Istanbul</td>\n",
              "    </tr>\n",
              "  </tbody>\n",
              "</table>\n",
              "<p>99457 rows × 6 columns</p>\n",
              "</div>"
            ],
            "text/plain": [
              "            invoice_no         category  quantity    price invoice_date  \\\n",
              "customer_id                                                               \n",
              "C241288        I138884         Clothing         5  1500.40   05-08-2022   \n",
              "C111565        I317333            Shoes         3  1800.51   12-12-2021   \n",
              "C266599        I127801         Clothing         1   300.08   09-11-2021   \n",
              "C988172        I173702            Shoes         5  3000.85   16-05-2021   \n",
              "C189076        I337046            Books         4    60.60   24-10-2021   \n",
              "...                ...              ...       ...      ...          ...   \n",
              "C441542        I219422         Souvenir         5    58.65   21-09-2022   \n",
              "C569580        I325143  Food & Beverage         2    10.46   22-09-2021   \n",
              "C103292        I824010  Food & Beverage         2    10.46   28-03-2021   \n",
              "C800631        I702964       Technology         4  4200.00   16-03-2021   \n",
              "C273973        I232867         Souvenir         3    35.19   15-10-2022   \n",
              "\n",
              "                shopping_mall  \n",
              "customer_id                    \n",
              "C241288                Kanyon  \n",
              "C111565        Forum Istanbul  \n",
              "C266599             Metrocity  \n",
              "C988172          Metropol AVM  \n",
              "C189076                Kanyon  \n",
              "...                       ...  \n",
              "C441542                Kanyon  \n",
              "C569580        Forum Istanbul  \n",
              "C103292             Metrocity  \n",
              "C800631          Istinye Park  \n",
              "C273973      Mall of Istanbul  \n",
              "\n",
              "[99457 rows x 6 columns]"
            ]
          },
          "execution_count": 105,
          "metadata": {},
          "output_type": "execute_result"
        }
      ],
      "source": [
        "ventas"
      ]
    },
    {
      "cell_type": "code",
      "execution_count": null,
      "id": "f8fbb597-6a35-4111-aefa-e05ce3ea6c59",
      "metadata": {
        "id": "f8fbb597-6a35-4111-aefa-e05ce3ea6c59",
        "outputId": "e4e91e44-43f5-45ce-fc82-b6152ac704df"
      },
      "outputs": [
        {
          "data": {
            "text/plain": [
              "customer_id       0\n",
              "gender            0\n",
              "age               0\n",
              "payment_method    0\n",
              "dtype: int64"
            ]
          },
          "execution_count": 139,
          "metadata": {},
          "output_type": "execute_result"
        }
      ],
      "source": [
        "clientes.isnull().sum()"
      ]
    },
    {
      "cell_type": "code",
      "execution_count": null,
      "id": "e03e3bf7-af67-4158-ab0e-476c05f08d92",
      "metadata": {
        "id": "e03e3bf7-af67-4158-ab0e-476c05f08d92"
      },
      "outputs": [],
      "source": [
        "clientes.dropna (subset=['age'], inplace=True)#elimino los 119 registros vacios, ya que esa cantidad no afecta la muestra de 99338 valores\n",
        "clientes['age'] = clientes['age'].astype(int)  # convierto a enteros la edad"
      ]
    },
    {
      "cell_type": "code",
      "execution_count": null,
      "id": "df73e04a-8253-42c7-9ea1-7a6a8302436f",
      "metadata": {
        "id": "df73e04a-8253-42c7-9ea1-7a6a8302436f",
        "outputId": "e999b3bf-6bb1-4359-bc3b-58533789c7d1"
      },
      "outputs": [
        {
          "name": "stdout",
          "output_type": "stream",
          "text": [
            "<class 'pandas.core.frame.DataFrame'>\n",
            "Index: 99338 entries, 0 to 99456\n",
            "Data columns (total 4 columns):\n",
            " #   Column          Non-Null Count  Dtype \n",
            "---  ------          --------------  ----- \n",
            " 0   customer_id     99338 non-null  object\n",
            " 1   gender          99338 non-null  object\n",
            " 2   age             99338 non-null  int64 \n",
            " 3   payment_method  99338 non-null  object\n",
            "dtypes: int64(1), object(3)\n",
            "memory usage: 3.8+ MB\n"
          ]
        }
      ],
      "source": [
        "clientes.info()"
      ]
    },
    {
      "cell_type": "code",
      "execution_count": null,
      "id": "fc809419-b6bb-4d4f-80e7-b1693150b461",
      "metadata": {
        "id": "fc809419-b6bb-4d4f-80e7-b1693150b461"
      },
      "outputs": [],
      "source": [
        "ventas = ventas[ventas['customer_id'].isin(clientes['customer_id'])]  # elimino esos 119 regristros de ventas"
      ]
    },
    {
      "cell_type": "code",
      "execution_count": null,
      "id": "2540ad31-0af8-4fae-9082-f9ea44a1e192",
      "metadata": {
        "id": "2540ad31-0af8-4fae-9082-f9ea44a1e192",
        "outputId": "bcfa3c9e-9d7d-46ea-bc40-c26d9608948e"
      },
      "outputs": [
        {
          "data": {
            "text/html": [
              "<div>\n",
              "<style scoped>\n",
              "    .dataframe tbody tr th:only-of-type {\n",
              "        vertical-align: middle;\n",
              "    }\n",
              "\n",
              "    .dataframe tbody tr th {\n",
              "        vertical-align: top;\n",
              "    }\n",
              "\n",
              "    .dataframe thead th {\n",
              "        text-align: right;\n",
              "    }\n",
              "</style>\n",
              "<table border=\"1\" class=\"dataframe\">\n",
              "  <thead>\n",
              "    <tr style=\"text-align: right;\">\n",
              "      <th></th>\n",
              "      <th>invoice_no</th>\n",
              "      <th>customer_id</th>\n",
              "      <th>category</th>\n",
              "      <th>quantity</th>\n",
              "      <th>price</th>\n",
              "      <th>invoice_date</th>\n",
              "      <th>shopping_mall</th>\n",
              "    </tr>\n",
              "  </thead>\n",
              "  <tbody>\n",
              "    <tr>\n",
              "      <th>0</th>\n",
              "      <td>I138884</td>\n",
              "      <td>C241288</td>\n",
              "      <td>Clothing</td>\n",
              "      <td>5</td>\n",
              "      <td>1500.40</td>\n",
              "      <td>2022-08-05</td>\n",
              "      <td>Kanyon</td>\n",
              "    </tr>\n",
              "    <tr>\n",
              "      <th>1</th>\n",
              "      <td>I317333</td>\n",
              "      <td>C111565</td>\n",
              "      <td>Shoes</td>\n",
              "      <td>3</td>\n",
              "      <td>1800.51</td>\n",
              "      <td>2021-12-12</td>\n",
              "      <td>Forum Istanbul</td>\n",
              "    </tr>\n",
              "    <tr>\n",
              "      <th>2</th>\n",
              "      <td>I127801</td>\n",
              "      <td>C266599</td>\n",
              "      <td>Clothing</td>\n",
              "      <td>1</td>\n",
              "      <td>300.08</td>\n",
              "      <td>2021-11-09</td>\n",
              "      <td>Metrocity</td>\n",
              "    </tr>\n",
              "    <tr>\n",
              "      <th>3</th>\n",
              "      <td>I173702</td>\n",
              "      <td>C988172</td>\n",
              "      <td>Shoes</td>\n",
              "      <td>5</td>\n",
              "      <td>3000.85</td>\n",
              "      <td>2021-05-16</td>\n",
              "      <td>Metropol AVM</td>\n",
              "    </tr>\n",
              "    <tr>\n",
              "      <th>4</th>\n",
              "      <td>I337046</td>\n",
              "      <td>C189076</td>\n",
              "      <td>Books</td>\n",
              "      <td>4</td>\n",
              "      <td>60.60</td>\n",
              "      <td>2021-10-24</td>\n",
              "      <td>Kanyon</td>\n",
              "    </tr>\n",
              "    <tr>\n",
              "      <th>...</th>\n",
              "      <td>...</td>\n",
              "      <td>...</td>\n",
              "      <td>...</td>\n",
              "      <td>...</td>\n",
              "      <td>...</td>\n",
              "      <td>...</td>\n",
              "      <td>...</td>\n",
              "    </tr>\n",
              "    <tr>\n",
              "      <th>99452</th>\n",
              "      <td>I219422</td>\n",
              "      <td>C441542</td>\n",
              "      <td>Souvenir</td>\n",
              "      <td>5</td>\n",
              "      <td>58.65</td>\n",
              "      <td>2022-09-21</td>\n",
              "      <td>Kanyon</td>\n",
              "    </tr>\n",
              "    <tr>\n",
              "      <th>99453</th>\n",
              "      <td>I325143</td>\n",
              "      <td>C569580</td>\n",
              "      <td>Food &amp; Beverage</td>\n",
              "      <td>2</td>\n",
              "      <td>10.46</td>\n",
              "      <td>2021-09-22</td>\n",
              "      <td>Forum Istanbul</td>\n",
              "    </tr>\n",
              "    <tr>\n",
              "      <th>99454</th>\n",
              "      <td>I824010</td>\n",
              "      <td>C103292</td>\n",
              "      <td>Food &amp; Beverage</td>\n",
              "      <td>2</td>\n",
              "      <td>10.46</td>\n",
              "      <td>2021-03-28</td>\n",
              "      <td>Metrocity</td>\n",
              "    </tr>\n",
              "    <tr>\n",
              "      <th>99455</th>\n",
              "      <td>I702964</td>\n",
              "      <td>C800631</td>\n",
              "      <td>Technology</td>\n",
              "      <td>4</td>\n",
              "      <td>4200.00</td>\n",
              "      <td>2021-03-16</td>\n",
              "      <td>Istinye Park</td>\n",
              "    </tr>\n",
              "    <tr>\n",
              "      <th>99456</th>\n",
              "      <td>I232867</td>\n",
              "      <td>C273973</td>\n",
              "      <td>Souvenir</td>\n",
              "      <td>3</td>\n",
              "      <td>35.19</td>\n",
              "      <td>2022-10-15</td>\n",
              "      <td>Mall of Istanbul</td>\n",
              "    </tr>\n",
              "  </tbody>\n",
              "</table>\n",
              "<p>99338 rows × 7 columns</p>\n",
              "</div>"
            ],
            "text/plain": [
              "      invoice_no customer_id         category  quantity    price invoice_date  \\\n",
              "0        I138884     C241288         Clothing         5  1500.40   2022-08-05   \n",
              "1        I317333     C111565            Shoes         3  1800.51   2021-12-12   \n",
              "2        I127801     C266599         Clothing         1   300.08   2021-11-09   \n",
              "3        I173702     C988172            Shoes         5  3000.85   2021-05-16   \n",
              "4        I337046     C189076            Books         4    60.60   2021-10-24   \n",
              "...          ...         ...              ...       ...      ...          ...   \n",
              "99452    I219422     C441542         Souvenir         5    58.65   2022-09-21   \n",
              "99453    I325143     C569580  Food & Beverage         2    10.46   2021-09-22   \n",
              "99454    I824010     C103292  Food & Beverage         2    10.46   2021-03-28   \n",
              "99455    I702964     C800631       Technology         4  4200.00   2021-03-16   \n",
              "99456    I232867     C273973         Souvenir         3    35.19   2022-10-15   \n",
              "\n",
              "          shopping_mall  \n",
              "0                Kanyon  \n",
              "1        Forum Istanbul  \n",
              "2             Metrocity  \n",
              "3          Metropol AVM  \n",
              "4                Kanyon  \n",
              "...                 ...  \n",
              "99452            Kanyon  \n",
              "99453    Forum Istanbul  \n",
              "99454         Metrocity  \n",
              "99455      Istinye Park  \n",
              "99456  Mall of Istanbul  \n",
              "\n",
              "[99338 rows x 7 columns]"
            ]
          },
          "execution_count": 177,
          "metadata": {},
          "output_type": "execute_result"
        }
      ],
      "source": [
        "ventas"
      ]
    },
    {
      "cell_type": "code",
      "execution_count": null,
      "id": "8917674b-f1e4-4ffb-b305-c6b72205b0d2",
      "metadata": {
        "id": "8917674b-f1e4-4ffb-b305-c6b72205b0d2",
        "outputId": "42aab482-8a9b-4d84-9b86-34bcb273adff"
      },
      "outputs": [
        {
          "data": {
            "text/plain": [
              "invoice_no       0\n",
              "customer_id      0\n",
              "category         0\n",
              "quantity         0\n",
              "price            0\n",
              "invoice_date     0\n",
              "shopping_mall    0\n",
              "dtype: int64"
            ]
          },
          "execution_count": 178,
          "metadata": {},
          "output_type": "execute_result"
        }
      ],
      "source": [
        "ventas.isnull().sum()"
      ]
    },
    {
      "cell_type": "code",
      "execution_count": null,
      "id": "052d2e74-0a84-4a61-80cd-143b5e351fc5",
      "metadata": {
        "id": "052d2e74-0a84-4a61-80cd-143b5e351fc5"
      },
      "outputs": [],
      "source": []
    },
    {
      "cell_type": "code",
      "execution_count": null,
      "id": "6563e197-ffed-4a8d-91e4-dc1eefa3d8eb",
      "metadata": {
        "id": "6563e197-ffed-4a8d-91e4-dc1eefa3d8eb"
      },
      "outputs": [],
      "source": [
        "ventas.loc[:,'invoice_date']= pd.to_datetime(ventas['invoice_date'], format='%d-%m-%Y') #estandarizo fechas. Uso loc para asegurar que se modifique toda la columna del df original"
      ]
    },
    {
      "cell_type": "code",
      "execution_count": null,
      "id": "902669bc-5825-4432-a109-eb3971398b10",
      "metadata": {
        "id": "902669bc-5825-4432-a109-eb3971398b10",
        "outputId": "aa99bf42-2bec-4b30-84bd-9d18aaeb0713"
      },
      "outputs": [
        {
          "data": {
            "text/html": [
              "<div>\n",
              "<style scoped>\n",
              "    .dataframe tbody tr th:only-of-type {\n",
              "        vertical-align: middle;\n",
              "    }\n",
              "\n",
              "    .dataframe tbody tr th {\n",
              "        vertical-align: top;\n",
              "    }\n",
              "\n",
              "    .dataframe thead th {\n",
              "        text-align: right;\n",
              "    }\n",
              "</style>\n",
              "<table border=\"1\" class=\"dataframe\">\n",
              "  <thead>\n",
              "    <tr style=\"text-align: right;\">\n",
              "      <th></th>\n",
              "      <th>invoice_no</th>\n",
              "      <th>customer_id</th>\n",
              "      <th>category</th>\n",
              "      <th>quantity</th>\n",
              "      <th>price</th>\n",
              "      <th>invoice_date</th>\n",
              "      <th>shopping_mall</th>\n",
              "    </tr>\n",
              "  </thead>\n",
              "  <tbody>\n",
              "    <tr>\n",
              "      <th>0</th>\n",
              "      <td>I138884</td>\n",
              "      <td>C241288</td>\n",
              "      <td>Clothing</td>\n",
              "      <td>5</td>\n",
              "      <td>1500.40</td>\n",
              "      <td>2022-08-05</td>\n",
              "      <td>Kanyon</td>\n",
              "    </tr>\n",
              "    <tr>\n",
              "      <th>1</th>\n",
              "      <td>I317333</td>\n",
              "      <td>C111565</td>\n",
              "      <td>Shoes</td>\n",
              "      <td>3</td>\n",
              "      <td>1800.51</td>\n",
              "      <td>2021-12-12</td>\n",
              "      <td>Forum Istanbul</td>\n",
              "    </tr>\n",
              "    <tr>\n",
              "      <th>2</th>\n",
              "      <td>I127801</td>\n",
              "      <td>C266599</td>\n",
              "      <td>Clothing</td>\n",
              "      <td>1</td>\n",
              "      <td>300.08</td>\n",
              "      <td>2021-11-09</td>\n",
              "      <td>Metrocity</td>\n",
              "    </tr>\n",
              "    <tr>\n",
              "      <th>3</th>\n",
              "      <td>I173702</td>\n",
              "      <td>C988172</td>\n",
              "      <td>Shoes</td>\n",
              "      <td>5</td>\n",
              "      <td>3000.85</td>\n",
              "      <td>2021-05-16</td>\n",
              "      <td>Metropol AVM</td>\n",
              "    </tr>\n",
              "    <tr>\n",
              "      <th>4</th>\n",
              "      <td>I337046</td>\n",
              "      <td>C189076</td>\n",
              "      <td>Books</td>\n",
              "      <td>4</td>\n",
              "      <td>60.60</td>\n",
              "      <td>2021-10-24</td>\n",
              "      <td>Kanyon</td>\n",
              "    </tr>\n",
              "  </tbody>\n",
              "</table>\n",
              "</div>"
            ],
            "text/plain": [
              "  invoice_no customer_id  category  quantity    price invoice_date  \\\n",
              "0    I138884     C241288  Clothing         5  1500.40   2022-08-05   \n",
              "1    I317333     C111565     Shoes         3  1800.51   2021-12-12   \n",
              "2    I127801     C266599  Clothing         1   300.08   2021-11-09   \n",
              "3    I173702     C988172     Shoes         5  3000.85   2021-05-16   \n",
              "4    I337046     C189076     Books         4    60.60   2021-10-24   \n",
              "\n",
              "    shopping_mall  \n",
              "0          Kanyon  \n",
              "1  Forum Istanbul  \n",
              "2       Metrocity  \n",
              "3    Metropol AVM  \n",
              "4          Kanyon  "
            ]
          },
          "execution_count": 180,
          "metadata": {},
          "output_type": "execute_result"
        }
      ],
      "source": [
        "ventas.head() #confirmo si el cambio se realizó ok\n"
      ]
    },
    {
      "cell_type": "code",
      "execution_count": null,
      "id": "5777ee22-b8ce-46e4-9fd2-f8baa7b1bc8c",
      "metadata": {
        "id": "5777ee22-b8ce-46e4-9fd2-f8baa7b1bc8c",
        "outputId": "46d65b53-9dc7-4446-d1b1-854f3af618eb"
      },
      "outputs": [
        {
          "name": "stdout",
          "output_type": "stream",
          "text": [
            "<class 'pandas.core.frame.DataFrame'>\n",
            "RangeIndex: 99457 entries, 0 to 99456\n",
            "Data columns (total 7 columns):\n",
            " #   Column         Non-Null Count  Dtype         \n",
            "---  ------         --------------  -----         \n",
            " 0   invoice_no     99457 non-null  object        \n",
            " 1   customer_id    99457 non-null  object        \n",
            " 2   category       99457 non-null  object        \n",
            " 3   quantity       99457 non-null  int64         \n",
            " 4   price          99457 non-null  float64       \n",
            " 5   invoice_date   99457 non-null  datetime64[ns]\n",
            " 6   shopping_mall  99457 non-null  object        \n",
            "dtypes: datetime64[ns](1), float64(1), int64(1), object(4)\n",
            "memory usage: 5.3+ MB\n"
          ]
        }
      ],
      "source": [
        "ventas.info() # confirmo si el tipo de dato dejo de ser un object"
      ]
    },
    {
      "cell_type": "code",
      "execution_count": null,
      "id": "21243549-c8ad-436f-8361-970322003845",
      "metadata": {
        "id": "21243549-c8ad-436f-8361-970322003845",
        "outputId": "481d50a7-97a9-4b7c-bef8-defcba1830ef"
      },
      "outputs": [
        {
          "data": {
            "text/plain": [
              "gender\n",
              "Female    59.81\n",
              "Male      40.19\n",
              "Name: proportion, dtype: float64"
            ]
          },
          "execution_count": 42,
          "metadata": {},
          "output_type": "execute_result"
        }
      ],
      "source": [
        "(clientes['gender'].value_counts(normalize=True)*100).round(2) # aqui vemos cantidad de mujeres y hombres de la muestra en porcentajes\n"
      ]
    },
    {
      "cell_type": "code",
      "execution_count": null,
      "id": "c9a3e1b3-c6b2-4617-ab69-1de78622ffba",
      "metadata": {
        "id": "c9a3e1b3-c6b2-4617-ab69-1de78622ffba",
        "outputId": "fd79c5de-a795-40aa-8da2-b879d79cfe95"
      },
      "outputs": [
        {
          "data": {
            "text/plain": [
              "count    99338.000000\n",
              "mean        43.425859\n",
              "std         14.989400\n",
              "min         18.000000\n",
              "25%         30.000000\n",
              "50%         43.000000\n",
              "75%         56.000000\n",
              "max         69.000000\n",
              "Name: age, dtype: float64"
            ]
          },
          "execution_count": 34,
          "metadata": {},
          "output_type": "execute_result"
        }
      ],
      "source": [
        "clientes ['age'].describe() # vemos promedio de edades (43.4 años), desviacion estandar (14.98), max (69) y min ( 18 años)"
      ]
    },
    {
      "cell_type": "code",
      "execution_count": null,
      "id": "23a4df11-2283-4e42-b0cd-f7a97239ad87",
      "metadata": {
        "id": "23a4df11-2283-4e42-b0cd-f7a97239ad87",
        "outputId": "f5e63dee-b8ad-4919-e153-81675d103ce5"
      },
      "outputs": [
        {
          "data": {
            "text/plain": [
              "payment_method\n",
              "Cash           44.69\n",
              "Credit Card    35.13\n",
              "Debit Card     20.18\n",
              "Name: proportion, dtype: float64"
            ]
          },
          "execution_count": 41,
          "metadata": {},
          "output_type": "execute_result"
        }
      ],
      "source": [
        "(clientes ['payment_method'].value_counts(normalize=True)*100).round(2) #aqui vemos metodos de pagos diferenciados en porcentajes"
      ]
    },
    {
      "cell_type": "code",
      "execution_count": null,
      "id": "ffcc0cfc-8f1d-4ae3-9829-b6fac80a8a27",
      "metadata": {
        "id": "ffcc0cfc-8f1d-4ae3-9829-b6fac80a8a27",
        "outputId": "5653c880-260e-4900-cc35-4fdf8510680d"
      },
      "outputs": [
        {
          "data": {
            "text/plain": [
              "gender  payment_method\n",
              "Female  Cash              44.57\n",
              "        Credit Card       35.34\n",
              "        Debit Card        20.10\n",
              "Male    Cash              44.88\n",
              "        Credit Card       34.82\n",
              "        Debit Card        20.30\n",
              "Name: proportion, dtype: float64"
            ]
          },
          "execution_count": 43,
          "metadata": {},
          "output_type": "execute_result"
        }
      ],
      "source": [
        "(clientes.groupby('gender')['payment_method'].value_counts(normalize=True)*100).round(2)"
      ]
    },
    {
      "cell_type": "code",
      "execution_count": null,
      "id": "a6161d38-78e3-439f-b2fa-537f6d1e153b",
      "metadata": {
        "id": "a6161d38-78e3-439f-b2fa-537f6d1e153b",
        "outputId": "9e40cfb0-c6d1-44f0-b381-289867e3b0d5"
      },
      "outputs": [
        {
          "data": {
            "text/html": [
              "<div>\n",
              "<style scoped>\n",
              "    .dataframe tbody tr th:only-of-type {\n",
              "        vertical-align: middle;\n",
              "    }\n",
              "\n",
              "    .dataframe tbody tr th {\n",
              "        vertical-align: top;\n",
              "    }\n",
              "\n",
              "    .dataframe thead th {\n",
              "        text-align: right;\n",
              "    }\n",
              "</style>\n",
              "<table border=\"1\" class=\"dataframe\">\n",
              "  <thead>\n",
              "    <tr style=\"text-align: right;\">\n",
              "      <th></th>\n",
              "      <th>quantity</th>\n",
              "      <th>price</th>\n",
              "      <th>invoice_date</th>\n",
              "    </tr>\n",
              "  </thead>\n",
              "  <tbody>\n",
              "    <tr>\n",
              "      <th>count</th>\n",
              "      <td>99457.000000</td>\n",
              "      <td>99457.000000</td>\n",
              "      <td>99457</td>\n",
              "    </tr>\n",
              "    <tr>\n",
              "      <th>mean</th>\n",
              "      <td>3.003429</td>\n",
              "      <td>689.256321</td>\n",
              "      <td>2022-02-04 02:46:59.783424</td>\n",
              "    </tr>\n",
              "    <tr>\n",
              "      <th>min</th>\n",
              "      <td>1.000000</td>\n",
              "      <td>5.230000</td>\n",
              "      <td>2021-01-01 00:00:00</td>\n",
              "    </tr>\n",
              "    <tr>\n",
              "      <th>25%</th>\n",
              "      <td>2.000000</td>\n",
              "      <td>45.450000</td>\n",
              "      <td>2021-07-19 00:00:00</td>\n",
              "    </tr>\n",
              "    <tr>\n",
              "      <th>50%</th>\n",
              "      <td>3.000000</td>\n",
              "      <td>203.300000</td>\n",
              "      <td>2022-02-05 00:00:00</td>\n",
              "    </tr>\n",
              "    <tr>\n",
              "      <th>75%</th>\n",
              "      <td>4.000000</td>\n",
              "      <td>1200.320000</td>\n",
              "      <td>2022-08-22 00:00:00</td>\n",
              "    </tr>\n",
              "    <tr>\n",
              "      <th>max</th>\n",
              "      <td>5.000000</td>\n",
              "      <td>5250.000000</td>\n",
              "      <td>2023-03-08 00:00:00</td>\n",
              "    </tr>\n",
              "    <tr>\n",
              "      <th>std</th>\n",
              "      <td>1.413025</td>\n",
              "      <td>941.184567</td>\n",
              "      <td>NaN</td>\n",
              "    </tr>\n",
              "  </tbody>\n",
              "</table>\n",
              "</div>"
            ],
            "text/plain": [
              "           quantity         price                invoice_date\n",
              "count  99457.000000  99457.000000                       99457\n",
              "mean       3.003429    689.256321  2022-02-04 02:46:59.783424\n",
              "min        1.000000      5.230000         2021-01-01 00:00:00\n",
              "25%        2.000000     45.450000         2021-07-19 00:00:00\n",
              "50%        3.000000    203.300000         2022-02-05 00:00:00\n",
              "75%        4.000000   1200.320000         2022-08-22 00:00:00\n",
              "max        5.000000   5250.000000         2023-03-08 00:00:00\n",
              "std        1.413025    941.184567                         NaN"
            ]
          },
          "execution_count": 44,
          "metadata": {},
          "output_type": "execute_result"
        }
      ],
      "source": [
        "ventas.describe()\n"
      ]
    },
    {
      "cell_type": "code",
      "execution_count": null,
      "id": "4bd17274-0431-4bb9-b99d-8af583d5c9ac",
      "metadata": {
        "id": "4bd17274-0431-4bb9-b99d-8af583d5c9ac",
        "outputId": "468e3cfe-63ed-4aa5-82f4-732432d07462"
      },
      "outputs": [
        {
          "data": {
            "text/plain": [
              "category\n",
              "Clothing           34.68\n",
              "Cosmetics          15.18\n",
              "Food & Beverage    14.86\n",
              "Toys               10.14\n",
              "Shoes              10.09\n",
              "Souvenir            5.03\n",
              "Technology          5.02\n",
              "Books               5.01\n",
              "Name: proportion, dtype: float64"
            ]
          },
          "execution_count": 50,
          "metadata": {},
          "output_type": "execute_result"
        }
      ],
      "source": [
        "(ventas ['category'].value_counts(normalize=True)*100).round(2)\n"
      ]
    },
    {
      "cell_type": "code",
      "execution_count": null,
      "id": "b04ef201-74c8-4e6c-ac1b-6e0788811e85",
      "metadata": {
        "id": "b04ef201-74c8-4e6c-ac1b-6e0788811e85",
        "outputId": "0463a88f-ea96-4213-b9cc-267e6016595a"
      },
      "outputs": [
        {
          "data": {
            "text/plain": [
              "count    99457.000000\n",
              "mean       689.256321\n",
              "std        941.184567\n",
              "min          5.230000\n",
              "25%         45.450000\n",
              "50%        203.300000\n",
              "75%       1200.320000\n",
              "max       5250.000000\n",
              "Name: price, dtype: float64"
            ]
          },
          "execution_count": 53,
          "metadata": {},
          "output_type": "execute_result"
        }
      ],
      "source": [
        "ventas ['price'].describe() # aqui vemos info sobre los precios, prmedio, desviacion standar, max y min"
      ]
    },
    {
      "cell_type": "code",
      "execution_count": null,
      "id": "5c522b39-d37d-4975-a6dd-400cfa382db3",
      "metadata": {
        "id": "5c522b39-d37d-4975-a6dd-400cfa382db3",
        "outputId": "cafd9bb6-5102-4a75-a61a-47f4431def0c"
      },
      "outputs": [
        {
          "data": {
            "text/plain": [
              "shopping_mall\n",
              "Mall of Istanbul     20.05\n",
              "Kanyon               19.93\n",
              "Metrocity            15.09\n",
              "Metropol AVM         10.22\n",
              "Istinye Park          9.83\n",
              "Zorlu Center          5.10\n",
              "Cevahir AVM           5.02\n",
              "Forum Istanbul        4.97\n",
              "Viaport Outlet        4.94\n",
              "Emaar Square Mall     4.84\n",
              "Name: proportion, dtype: float64"
            ]
          },
          "execution_count": 55,
          "metadata": {},
          "output_type": "execute_result"
        }
      ],
      "source": [
        "(ventas ['shopping_mall'].value_counts(normalize=True)*100).round(2) # aqui vemos %de participacion de cada mall"
      ]
    },
    {
      "cell_type": "code",
      "execution_count": null,
      "id": "a7669f43-1a4f-424a-af3f-5c8b1fb599d4",
      "metadata": {
        "id": "a7669f43-1a4f-424a-af3f-5c8b1fb599d4",
        "outputId": "1f8f7559-b9f5-406a-f46a-aca395e22905"
      },
      "outputs": [
        {
          "data": {
            "text/plain": [
              "(Timestamp('2021-01-01 00:00:00'), Timestamp('2023-03-08 00:00:00'))"
            ]
          },
          "execution_count": 57,
          "metadata": {},
          "output_type": "execute_result"
        }
      ],
      "source": [
        "ventas['invoice_date'].min(), ventas['invoice_date'].max() # aca vemos rango de fechas de la muestra"
      ]
    },
    {
      "cell_type": "markdown",
      "id": "56ff69fe-e5af-4604-8f4a-8d18f6d22c9a",
      "metadata": {
        "id": "56ff69fe-e5af-4604-8f4a-8d18f6d22c9a"
      },
      "source": [
        "En este paso, unimos los dos data frame, utilizando columna customer_id"
      ]
    },
    {
      "cell_type": "code",
      "execution_count": null,
      "id": "42ee4413-2207-4902-8ec5-8d775c0fc4c4",
      "metadata": {
        "id": "42ee4413-2207-4902-8ec5-8d775c0fc4c4"
      },
      "outputs": [],
      "source": [
        "df_final=pd.merge(ventas, clientes, on='customer_id', how='inner')"
      ]
    },
    {
      "cell_type": "code",
      "execution_count": null,
      "id": "08dfbac9-c60e-4791-90d8-c13162737269",
      "metadata": {
        "id": "08dfbac9-c60e-4791-90d8-c13162737269",
        "outputId": "e5846540-5883-4289-b962-5d9b73724356"
      },
      "outputs": [
        {
          "data": {
            "text/html": [
              "<div>\n",
              "<style scoped>\n",
              "    .dataframe tbody tr th:only-of-type {\n",
              "        vertical-align: middle;\n",
              "    }\n",
              "\n",
              "    .dataframe tbody tr th {\n",
              "        vertical-align: top;\n",
              "    }\n",
              "\n",
              "    .dataframe thead th {\n",
              "        text-align: right;\n",
              "    }\n",
              "</style>\n",
              "<table border=\"1\" class=\"dataframe\">\n",
              "  <thead>\n",
              "    <tr style=\"text-align: right;\">\n",
              "      <th></th>\n",
              "      <th>invoice_no</th>\n",
              "      <th>category</th>\n",
              "      <th>quantity</th>\n",
              "      <th>price</th>\n",
              "      <th>invoice_date</th>\n",
              "      <th>shopping_mall</th>\n",
              "      <th>gender</th>\n",
              "      <th>age</th>\n",
              "      <th>payment_method</th>\n",
              "    </tr>\n",
              "    <tr>\n",
              "      <th>customer_id</th>\n",
              "      <th></th>\n",
              "      <th></th>\n",
              "      <th></th>\n",
              "      <th></th>\n",
              "      <th></th>\n",
              "      <th></th>\n",
              "      <th></th>\n",
              "      <th></th>\n",
              "      <th></th>\n",
              "    </tr>\n",
              "  </thead>\n",
              "  <tbody>\n",
              "    <tr>\n",
              "      <th>C241288</th>\n",
              "      <td>I138884</td>\n",
              "      <td>Clothing</td>\n",
              "      <td>5</td>\n",
              "      <td>1500.40</td>\n",
              "      <td>2022-08-05</td>\n",
              "      <td>Kanyon</td>\n",
              "      <td>Female</td>\n",
              "      <td>28.0</td>\n",
              "      <td>Credit Card</td>\n",
              "    </tr>\n",
              "    <tr>\n",
              "      <th>C111565</th>\n",
              "      <td>I317333</td>\n",
              "      <td>Shoes</td>\n",
              "      <td>3</td>\n",
              "      <td>1800.51</td>\n",
              "      <td>2021-12-12</td>\n",
              "      <td>Forum Istanbul</td>\n",
              "      <td>Male</td>\n",
              "      <td>21.0</td>\n",
              "      <td>Debit Card</td>\n",
              "    </tr>\n",
              "    <tr>\n",
              "      <th>C266599</th>\n",
              "      <td>I127801</td>\n",
              "      <td>Clothing</td>\n",
              "      <td>1</td>\n",
              "      <td>300.08</td>\n",
              "      <td>2021-11-09</td>\n",
              "      <td>Metrocity</td>\n",
              "      <td>Male</td>\n",
              "      <td>20.0</td>\n",
              "      <td>Cash</td>\n",
              "    </tr>\n",
              "    <tr>\n",
              "      <th>C988172</th>\n",
              "      <td>I173702</td>\n",
              "      <td>Shoes</td>\n",
              "      <td>5</td>\n",
              "      <td>3000.85</td>\n",
              "      <td>2021-05-16</td>\n",
              "      <td>Metropol AVM</td>\n",
              "      <td>Female</td>\n",
              "      <td>66.0</td>\n",
              "      <td>Credit Card</td>\n",
              "    </tr>\n",
              "    <tr>\n",
              "      <th>C189076</th>\n",
              "      <td>I337046</td>\n",
              "      <td>Books</td>\n",
              "      <td>4</td>\n",
              "      <td>60.60</td>\n",
              "      <td>2021-10-24</td>\n",
              "      <td>Kanyon</td>\n",
              "      <td>Female</td>\n",
              "      <td>53.0</td>\n",
              "      <td>Cash</td>\n",
              "    </tr>\n",
              "    <tr>\n",
              "      <th>...</th>\n",
              "      <td>...</td>\n",
              "      <td>...</td>\n",
              "      <td>...</td>\n",
              "      <td>...</td>\n",
              "      <td>...</td>\n",
              "      <td>...</td>\n",
              "      <td>...</td>\n",
              "      <td>...</td>\n",
              "      <td>...</td>\n",
              "    </tr>\n",
              "    <tr>\n",
              "      <th>C441542</th>\n",
              "      <td>I219422</td>\n",
              "      <td>Souvenir</td>\n",
              "      <td>5</td>\n",
              "      <td>58.65</td>\n",
              "      <td>2022-09-21</td>\n",
              "      <td>Kanyon</td>\n",
              "      <td>Female</td>\n",
              "      <td>45.0</td>\n",
              "      <td>Credit Card</td>\n",
              "    </tr>\n",
              "    <tr>\n",
              "      <th>C569580</th>\n",
              "      <td>I325143</td>\n",
              "      <td>Food &amp; Beverage</td>\n",
              "      <td>2</td>\n",
              "      <td>10.46</td>\n",
              "      <td>2021-09-22</td>\n",
              "      <td>Forum Istanbul</td>\n",
              "      <td>Male</td>\n",
              "      <td>27.0</td>\n",
              "      <td>Cash</td>\n",
              "    </tr>\n",
              "    <tr>\n",
              "      <th>C103292</th>\n",
              "      <td>I824010</td>\n",
              "      <td>Food &amp; Beverage</td>\n",
              "      <td>2</td>\n",
              "      <td>10.46</td>\n",
              "      <td>2021-03-28</td>\n",
              "      <td>Metrocity</td>\n",
              "      <td>Male</td>\n",
              "      <td>63.0</td>\n",
              "      <td>Debit Card</td>\n",
              "    </tr>\n",
              "    <tr>\n",
              "      <th>C800631</th>\n",
              "      <td>I702964</td>\n",
              "      <td>Technology</td>\n",
              "      <td>4</td>\n",
              "      <td>4200.00</td>\n",
              "      <td>2021-03-16</td>\n",
              "      <td>Istinye Park</td>\n",
              "      <td>Male</td>\n",
              "      <td>56.0</td>\n",
              "      <td>Cash</td>\n",
              "    </tr>\n",
              "    <tr>\n",
              "      <th>C273973</th>\n",
              "      <td>I232867</td>\n",
              "      <td>Souvenir</td>\n",
              "      <td>3</td>\n",
              "      <td>35.19</td>\n",
              "      <td>2022-10-15</td>\n",
              "      <td>Mall of Istanbul</td>\n",
              "      <td>Female</td>\n",
              "      <td>36.0</td>\n",
              "      <td>Credit Card</td>\n",
              "    </tr>\n",
              "  </tbody>\n",
              "</table>\n",
              "<p>99338 rows × 9 columns</p>\n",
              "</div>"
            ],
            "text/plain": [
              "            invoice_no         category  quantity    price invoice_date  \\\n",
              "customer_id                                                               \n",
              "C241288        I138884         Clothing         5  1500.40   2022-08-05   \n",
              "C111565        I317333            Shoes         3  1800.51   2021-12-12   \n",
              "C266599        I127801         Clothing         1   300.08   2021-11-09   \n",
              "C988172        I173702            Shoes         5  3000.85   2021-05-16   \n",
              "C189076        I337046            Books         4    60.60   2021-10-24   \n",
              "...                ...              ...       ...      ...          ...   \n",
              "C441542        I219422         Souvenir         5    58.65   2022-09-21   \n",
              "C569580        I325143  Food & Beverage         2    10.46   2021-09-22   \n",
              "C103292        I824010  Food & Beverage         2    10.46   2021-03-28   \n",
              "C800631        I702964       Technology         4  4200.00   2021-03-16   \n",
              "C273973        I232867         Souvenir         3    35.19   2022-10-15   \n",
              "\n",
              "                shopping_mall  gender   age payment_method  \n",
              "customer_id                                                 \n",
              "C241288                Kanyon  Female  28.0    Credit Card  \n",
              "C111565        Forum Istanbul    Male  21.0     Debit Card  \n",
              "C266599             Metrocity    Male  20.0           Cash  \n",
              "C988172          Metropol AVM  Female  66.0    Credit Card  \n",
              "C189076                Kanyon  Female  53.0           Cash  \n",
              "...                       ...     ...   ...            ...  \n",
              "C441542                Kanyon  Female  45.0    Credit Card  \n",
              "C569580        Forum Istanbul    Male  27.0           Cash  \n",
              "C103292             Metrocity    Male  63.0     Debit Card  \n",
              "C800631          Istinye Park    Male  56.0           Cash  \n",
              "C273973      Mall of Istanbul  Female  36.0    Credit Card  \n",
              "\n",
              "[99338 rows x 9 columns]"
            ]
          },
          "execution_count": 108,
          "metadata": {},
          "output_type": "execute_result"
        }
      ],
      "source": [
        "df_final"
      ]
    },
    {
      "cell_type": "code",
      "execution_count": null,
      "id": "f975ffe0-e23d-4f2d-ad52-92aed97b314b",
      "metadata": {
        "id": "f975ffe0-e23d-4f2d-ad52-92aed97b314b",
        "outputId": "ecb9eab2-a35b-45f8-ca33-38ac9db86a19"
      },
      "outputs": [
        {
          "name": "stdout",
          "output_type": "stream",
          "text": [
            "<class 'pandas.core.frame.DataFrame'>\n",
            "Index: 99338 entries, C241288 to C273973\n",
            "Data columns (total 9 columns):\n",
            " #   Column          Non-Null Count  Dtype         \n",
            "---  ------          --------------  -----         \n",
            " 0   invoice_no      99338 non-null  object        \n",
            " 1   category        99338 non-null  object        \n",
            " 2   quantity        99338 non-null  int64         \n",
            " 3   price           99338 non-null  float64       \n",
            " 4   invoice_date    99338 non-null  datetime64[ns]\n",
            " 5   shopping_mall   99338 non-null  object        \n",
            " 6   gender          99338 non-null  object        \n",
            " 7   age             99338 non-null  int64         \n",
            " 8   payment_method  99338 non-null  object        \n",
            "dtypes: datetime64[ns](1), float64(1), int64(2), object(5)\n",
            "memory usage: 9.6+ MB\n"
          ]
        }
      ],
      "source": [
        "df_final.info()"
      ]
    },
    {
      "cell_type": "code",
      "execution_count": null,
      "id": "53a97ae7-e9c1-4111-88de-fb966cf7abf6",
      "metadata": {
        "id": "53a97ae7-e9c1-4111-88de-fb966cf7abf6"
      },
      "outputs": [],
      "source": [
        " df_final['age'] = df_final['age'].astype(int)"
      ]
    },
    {
      "cell_type": "code",
      "execution_count": null,
      "id": "895b610a-b1ee-443e-84fa-4fb6eb74f598",
      "metadata": {
        "id": "895b610a-b1ee-443e-84fa-4fb6eb74f598",
        "outputId": "e53da887-d40f-4830-f469-50bfab9dbe0f"
      },
      "outputs": [
        {
          "name": "stdout",
          "output_type": "stream",
          "text": [
            "<class 'pandas.core.frame.DataFrame'>\n",
            "Index: 99338 entries, C241288 to C273973\n",
            "Data columns (total 9 columns):\n",
            " #   Column          Non-Null Count  Dtype         \n",
            "---  ------          --------------  -----         \n",
            " 0   invoice_no      99338 non-null  object        \n",
            " 1   category        99338 non-null  object        \n",
            " 2   quantity        99338 non-null  int64         \n",
            " 3   price           99338 non-null  float64       \n",
            " 4   invoice_date    99338 non-null  datetime64[ns]\n",
            " 5   shopping_mall   99338 non-null  object        \n",
            " 6   gender          99338 non-null  object        \n",
            " 7   age             99338 non-null  int64         \n",
            " 8   payment_method  99338 non-null  object        \n",
            "dtypes: datetime64[ns](1), float64(1), int64(2), object(5)\n",
            "memory usage: 9.6+ MB\n"
          ]
        }
      ],
      "source": [
        "df_final.info()"
      ]
    },
    {
      "cell_type": "markdown",
      "id": "1b1c4109-2b7a-4463-af66-e44d7d769ea6",
      "metadata": {
        "id": "1b1c4109-2b7a-4463-af66-e44d7d769ea6"
      },
      "source": [
        "Ahora si, estamos en condiciones de responder preguntas de la consigna\n"
      ]
    },
    {
      "cell_type": "markdown",
      "id": "c17fe849-75a0-47e9-9d7f-e7b96e528b66",
      "metadata": {
        "id": "c17fe849-75a0-47e9-9d7f-e7b96e528b66"
      },
      "source": [
        "1 Metodo de pago mas usado:  en est caso, se observa que es el Cash ( efectivo)"
      ]
    },
    {
      "cell_type": "code",
      "execution_count": null,
      "id": "1ade6568-8626-43c2-84af-fa4a493299e2",
      "metadata": {
        "id": "1ade6568-8626-43c2-84af-fa4a493299e2",
        "outputId": "0792a400-52e6-4640-cb75-4380216eccbe"
      },
      "outputs": [
        {
          "data": {
            "text/plain": [
              "0    Cash\n",
              "Name: payment_method, dtype: object"
            ]
          },
          "execution_count": 66,
          "metadata": {},
          "output_type": "execute_result"
        }
      ],
      "source": [
        "df_final['payment_method'].mode()"
      ]
    },
    {
      "cell_type": "markdown",
      "id": "197be12b-ef78-4dd8-b421-0b36b3c87303",
      "metadata": {
        "id": "197be12b-ef78-4dd8-b421-0b36b3c87303"
      },
      "source": [
        "2 Método de pago por genero: aqui se observa que tanto hombres como mujeres utilizan en similares porcentajes los medios de pago, siendo el mas usado el cash( 44,57% mujeres - 44.88% hombres), luego credito (35.34% mujeres - 34.82% hombres) y finalmente debito ( 20.1% mujeres - 20.3% hombres)"
      ]
    },
    {
      "cell_type": "code",
      "execution_count": null,
      "id": "9100eea5-e297-4e3e-8391-736b7d2c12f8",
      "metadata": {
        "id": "9100eea5-e297-4e3e-8391-736b7d2c12f8",
        "outputId": "8a24be9e-63cf-4fbc-b804-4a425d153eea"
      },
      "outputs": [
        {
          "data": {
            "text/plain": [
              "gender  payment_method\n",
              "Female  Cash              26479\n",
              "        Credit Card       20994\n",
              "        Debit Card        11939\n",
              "Male    Cash              17918\n",
              "        Credit Card       13904\n",
              "        Debit Card         8104\n",
              "Name: count, dtype: int64"
            ]
          },
          "execution_count": 150,
          "metadata": {},
          "output_type": "execute_result"
        }
      ],
      "source": [
        "df_final.groupby('gender')['payment_method'].value_counts()\n"
      ]
    },
    {
      "cell_type": "code",
      "execution_count": null,
      "id": "ad99bf46-0818-4a22-bf8b-64f51e150779",
      "metadata": {
        "id": "ad99bf46-0818-4a22-bf8b-64f51e150779",
        "outputId": "fb0918ac-dabd-4b99-e636-3604d0e8431a"
      },
      "outputs": [
        {
          "data": {
            "text/plain": [
              "gender  payment_method\n",
              "Female  Cash              44.57\n",
              "        Credit Card       35.34\n",
              "        Debit Card        20.10\n",
              "Male    Cash              44.88\n",
              "        Credit Card       34.82\n",
              "        Debit Card        20.30\n",
              "Name: proportion, dtype: float64"
            ]
          },
          "execution_count": 151,
          "metadata": {},
          "output_type": "execute_result"
        }
      ],
      "source": [
        "(df_final.groupby('gender')['payment_method'].value_counts(normalize=True)*100).round(2)"
      ]
    },
    {
      "cell_type": "markdown",
      "id": "a3f7cb88-1793-4c1e-be05-6762aee34349",
      "metadata": {
        "id": "a3f7cb88-1793-4c1e-be05-6762aee34349"
      },
      "source": [
        "3 categorización de clientes de acuerdo a su forma de pago (por\n",
        "edad y género)."
      ]
    },
    {
      "cell_type": "code",
      "execution_count": null,
      "id": "f1e0f7f0-1107-4680-9835-e85ad5d906d1",
      "metadata": {
        "id": "f1e0f7f0-1107-4680-9835-e85ad5d906d1"
      },
      "outputs": [],
      "source": [
        "categorizacion= (\n",
        "    df_final\n",
        "    .groupby(['age', 'gender', 'payment_method'])  # agrupo los datos edad, genero y metodo de pago\n",
        "    .size()                                        #cuenta cuantos registros hay en cada grupp\n",
        "    .reset_index(name='Cantidad')                  #conviete el resultado en un df y lo llma cantidad\n",
        "    .sort_values(by=['age', 'gender'])              # ordena\n",
        ")"
      ]
    },
    {
      "cell_type": "code",
      "execution_count": null,
      "id": "db9c61d4-0498-489e-9eca-373910643808",
      "metadata": {
        "id": "db9c61d4-0498-489e-9eca-373910643808",
        "outputId": "3f75d7a9-581f-4dd6-b2c9-4fdba22063ac"
      },
      "outputs": [
        {
          "data": {
            "text/html": [
              "<div>\n",
              "<style scoped>\n",
              "    .dataframe tbody tr th:only-of-type {\n",
              "        vertical-align: middle;\n",
              "    }\n",
              "\n",
              "    .dataframe tbody tr th {\n",
              "        vertical-align: top;\n",
              "    }\n",
              "\n",
              "    .dataframe thead th {\n",
              "        text-align: right;\n",
              "    }\n",
              "</style>\n",
              "<table border=\"1\" class=\"dataframe\">\n",
              "  <thead>\n",
              "    <tr style=\"text-align: right;\">\n",
              "      <th></th>\n",
              "      <th>age</th>\n",
              "      <th>gender</th>\n",
              "      <th>payment_method</th>\n",
              "      <th>Cantidad</th>\n",
              "    </tr>\n",
              "  </thead>\n",
              "  <tbody>\n",
              "    <tr>\n",
              "      <th>0</th>\n",
              "      <td>18</td>\n",
              "      <td>Female</td>\n",
              "      <td>Cash</td>\n",
              "      <td>473</td>\n",
              "    </tr>\n",
              "    <tr>\n",
              "      <th>1</th>\n",
              "      <td>18</td>\n",
              "      <td>Female</td>\n",
              "      <td>Credit Card</td>\n",
              "      <td>383</td>\n",
              "    </tr>\n",
              "    <tr>\n",
              "      <th>2</th>\n",
              "      <td>18</td>\n",
              "      <td>Female</td>\n",
              "      <td>Debit Card</td>\n",
              "      <td>222</td>\n",
              "    </tr>\n",
              "    <tr>\n",
              "      <th>3</th>\n",
              "      <td>18</td>\n",
              "      <td>Male</td>\n",
              "      <td>Cash</td>\n",
              "      <td>342</td>\n",
              "    </tr>\n",
              "    <tr>\n",
              "      <th>4</th>\n",
              "      <td>18</td>\n",
              "      <td>Male</td>\n",
              "      <td>Credit Card</td>\n",
              "      <td>267</td>\n",
              "    </tr>\n",
              "    <tr>\n",
              "      <th>...</th>\n",
              "      <td>...</td>\n",
              "      <td>...</td>\n",
              "      <td>...</td>\n",
              "      <td>...</td>\n",
              "    </tr>\n",
              "    <tr>\n",
              "      <th>307</th>\n",
              "      <td>69</td>\n",
              "      <td>Female</td>\n",
              "      <td>Credit Card</td>\n",
              "      <td>394</td>\n",
              "    </tr>\n",
              "    <tr>\n",
              "      <th>308</th>\n",
              "      <td>69</td>\n",
              "      <td>Female</td>\n",
              "      <td>Debit Card</td>\n",
              "      <td>217</td>\n",
              "    </tr>\n",
              "    <tr>\n",
              "      <th>309</th>\n",
              "      <td>69</td>\n",
              "      <td>Male</td>\n",
              "      <td>Cash</td>\n",
              "      <td>325</td>\n",
              "    </tr>\n",
              "    <tr>\n",
              "      <th>310</th>\n",
              "      <td>69</td>\n",
              "      <td>Male</td>\n",
              "      <td>Credit Card</td>\n",
              "      <td>289</td>\n",
              "    </tr>\n",
              "    <tr>\n",
              "      <th>311</th>\n",
              "      <td>69</td>\n",
              "      <td>Male</td>\n",
              "      <td>Debit Card</td>\n",
              "      <td>143</td>\n",
              "    </tr>\n",
              "  </tbody>\n",
              "</table>\n",
              "<p>312 rows × 4 columns</p>\n",
              "</div>"
            ],
            "text/plain": [
              "     age  gender payment_method  Cantidad\n",
              "0     18  Female           Cash       473\n",
              "1     18  Female    Credit Card       383\n",
              "2     18  Female     Debit Card       222\n",
              "3     18    Male           Cash       342\n",
              "4     18    Male    Credit Card       267\n",
              "..   ...     ...            ...       ...\n",
              "307   69  Female    Credit Card       394\n",
              "308   69  Female     Debit Card       217\n",
              "309   69    Male           Cash       325\n",
              "310   69    Male    Credit Card       289\n",
              "311   69    Male     Debit Card       143\n",
              "\n",
              "[312 rows x 4 columns]"
            ]
          },
          "execution_count": 162,
          "metadata": {},
          "output_type": "execute_result"
        }
      ],
      "source": [
        "categorizacion"
      ]
    },
    {
      "cell_type": "markdown",
      "id": "d8d8a07a-d925-4579-a3d6-0182f99699cc",
      "metadata": {
        "id": "d8d8a07a-d925-4579-a3d6-0182f99699cc"
      },
      "source": [
        "4 Métodos de pagos realizados por el rango etario de 25 a 35 años"
      ]
    },
    {
      "cell_type": "code",
      "execution_count": null,
      "id": "2eafb229-4cfb-4f8a-9cef-b01e6d5b9feb",
      "metadata": {
        "id": "2eafb229-4cfb-4f8a-9cef-b01e6d5b9feb",
        "outputId": "e35ef1e1-9033-4774-f4f6-4f5f41b983f9"
      },
      "outputs": [
        {
          "data": {
            "text/plain": [
              "payment_method\n",
              "Cash           44.78\n",
              "Credit Card    34.82\n",
              "Debit Card     20.40\n",
              "Name: proportion, dtype: float64"
            ]
          },
          "execution_count": 94,
          "metadata": {},
          "output_type": "execute_result"
        }
      ],
      "source": [
        "df_25_35= df_final[ (df_final['age']>=25)& (df_final['age'] <=35)]\n",
        "(df_25_35 ['payment_method'].value_counts(normalize=True)*100).round(2)"
      ]
    },
    {
      "cell_type": "markdown",
      "id": "0ca3bd86-ab53-42f4-abeb-d700e10bb1a3",
      "metadata": {
        "id": "0ca3bd86-ab53-42f4-abeb-d700e10bb1a3"
      },
      "source": [
        "##### 5- Métodos de pago más utilizados por las mujeres. Se observa que el 44.57% utiliza cash"
      ]
    },
    {
      "cell_type": "code",
      "execution_count": null,
      "id": "c39783b5-4e36-4fc3-ac81-73ba51c613c5",
      "metadata": {
        "id": "c39783b5-4e36-4fc3-ac81-73ba51c613c5",
        "outputId": "91eeadf4-3c6f-49f6-c351-3ac1a1e4f486"
      },
      "outputs": [
        {
          "data": {
            "text/plain": [
              "payment_method\n",
              "Cash           44.57\n",
              "Credit Card    35.34\n",
              "Debit Card     20.10\n",
              "Name: proportion, dtype: float64"
            ]
          },
          "execution_count": 88,
          "metadata": {},
          "output_type": "execute_result"
        }
      ],
      "source": [
        "(df_final[df_final['gender']=='Female']['payment_method'].value_counts(normalize=True)*100).round(2)"
      ]
    },
    {
      "cell_type": "markdown",
      "id": "c1c0b337-9cf3-4e1c-971b-01a867f25eee",
      "metadata": {
        "id": "c1c0b337-9cf3-4e1c-971b-01a867f25eee"
      },
      "source": [
        "6- Precios por categoría de productos: aqui vemos el listado de categorias de prodcutos y sus precios promedio"
      ]
    },
    {
      "cell_type": "code",
      "execution_count": null,
      "id": "e50a511a-f5a3-4ff5-ae4d-53adf6eaebaf",
      "metadata": {
        "id": "e50a511a-f5a3-4ff5-ae4d-53adf6eaebaf",
        "outputId": "19d6b121-8b1e-4db8-b440-87aca6c81333"
      },
      "outputs": [
        {
          "data": {
            "text/plain": [
              "category\n",
              "Books                45.56\n",
              "Clothing            901.12\n",
              "Cosmetics           122.45\n",
              "Food & Beverage      15.67\n",
              "Shoes              1807.28\n",
              "Souvenir             34.88\n",
              "Technology         3157.15\n",
              "Toys                107.75\n",
              "Name: price, dtype: float64"
            ]
          },
          "execution_count": 84,
          "metadata": {},
          "output_type": "execute_result"
        }
      ],
      "source": [
        "(df_final.groupby('category')['price'].mean()).round(2)"
      ]
    },
    {
      "cell_type": "markdown",
      "id": "932eacff-6087-4eea-a760-3efa35304b22",
      "metadata": {
        "id": "932eacff-6087-4eea-a760-3efa35304b22"
      },
      "source": [
        "ETAPA LOAD - datos limpios. Guardamos datos finales para hacer el analisis"
      ]
    },
    {
      "cell_type": "code",
      "execution_count": null,
      "id": "ce5de94f-e47e-4411-985f-1922a9413307",
      "metadata": {
        "id": "ce5de94f-e47e-4411-985f-1922a9413307"
      },
      "outputs": [],
      "source": [
        "datos_limpios=df_final.copy()   # creo un data frame limpio"
      ]
    },
    {
      "cell_type": "code",
      "execution_count": null,
      "id": "ef05718a-830c-4033-861b-e9cd99d349ad",
      "metadata": {
        "id": "ef05718a-830c-4033-861b-e9cd99d349ad",
        "outputId": "1038078b-0d8f-4547-9a1f-8c03ee7c7413"
      },
      "outputs": [
        {
          "data": {
            "text/html": [
              "<div>\n",
              "<style scoped>\n",
              "    .dataframe tbody tr th:only-of-type {\n",
              "        vertical-align: middle;\n",
              "    }\n",
              "\n",
              "    .dataframe tbody tr th {\n",
              "        vertical-align: top;\n",
              "    }\n",
              "\n",
              "    .dataframe thead th {\n",
              "        text-align: right;\n",
              "    }\n",
              "</style>\n",
              "<table border=\"1\" class=\"dataframe\">\n",
              "  <thead>\n",
              "    <tr style=\"text-align: right;\">\n",
              "      <th></th>\n",
              "      <th>invoice_no</th>\n",
              "      <th>category</th>\n",
              "      <th>quantity</th>\n",
              "      <th>price</th>\n",
              "      <th>invoice_date</th>\n",
              "      <th>shopping_mall</th>\n",
              "      <th>gender</th>\n",
              "      <th>age</th>\n",
              "      <th>payment_method</th>\n",
              "    </tr>\n",
              "    <tr>\n",
              "      <th>customer_id</th>\n",
              "      <th></th>\n",
              "      <th></th>\n",
              "      <th></th>\n",
              "      <th></th>\n",
              "      <th></th>\n",
              "      <th></th>\n",
              "      <th></th>\n",
              "      <th></th>\n",
              "      <th></th>\n",
              "    </tr>\n",
              "  </thead>\n",
              "  <tbody>\n",
              "    <tr>\n",
              "      <th>C241288</th>\n",
              "      <td>I138884</td>\n",
              "      <td>Clothing</td>\n",
              "      <td>5</td>\n",
              "      <td>1500.40</td>\n",
              "      <td>2022-08-05</td>\n",
              "      <td>Kanyon</td>\n",
              "      <td>Female</td>\n",
              "      <td>28</td>\n",
              "      <td>Credit Card</td>\n",
              "    </tr>\n",
              "    <tr>\n",
              "      <th>C111565</th>\n",
              "      <td>I317333</td>\n",
              "      <td>Shoes</td>\n",
              "      <td>3</td>\n",
              "      <td>1800.51</td>\n",
              "      <td>2021-12-12</td>\n",
              "      <td>Forum Istanbul</td>\n",
              "      <td>Male</td>\n",
              "      <td>21</td>\n",
              "      <td>Debit Card</td>\n",
              "    </tr>\n",
              "    <tr>\n",
              "      <th>C266599</th>\n",
              "      <td>I127801</td>\n",
              "      <td>Clothing</td>\n",
              "      <td>1</td>\n",
              "      <td>300.08</td>\n",
              "      <td>2021-11-09</td>\n",
              "      <td>Metrocity</td>\n",
              "      <td>Male</td>\n",
              "      <td>20</td>\n",
              "      <td>Cash</td>\n",
              "    </tr>\n",
              "    <tr>\n",
              "      <th>C988172</th>\n",
              "      <td>I173702</td>\n",
              "      <td>Shoes</td>\n",
              "      <td>5</td>\n",
              "      <td>3000.85</td>\n",
              "      <td>2021-05-16</td>\n",
              "      <td>Metropol AVM</td>\n",
              "      <td>Female</td>\n",
              "      <td>66</td>\n",
              "      <td>Credit Card</td>\n",
              "    </tr>\n",
              "    <tr>\n",
              "      <th>C189076</th>\n",
              "      <td>I337046</td>\n",
              "      <td>Books</td>\n",
              "      <td>4</td>\n",
              "      <td>60.60</td>\n",
              "      <td>2021-10-24</td>\n",
              "      <td>Kanyon</td>\n",
              "      <td>Female</td>\n",
              "      <td>53</td>\n",
              "      <td>Cash</td>\n",
              "    </tr>\n",
              "    <tr>\n",
              "      <th>...</th>\n",
              "      <td>...</td>\n",
              "      <td>...</td>\n",
              "      <td>...</td>\n",
              "      <td>...</td>\n",
              "      <td>...</td>\n",
              "      <td>...</td>\n",
              "      <td>...</td>\n",
              "      <td>...</td>\n",
              "      <td>...</td>\n",
              "    </tr>\n",
              "    <tr>\n",
              "      <th>C441542</th>\n",
              "      <td>I219422</td>\n",
              "      <td>Souvenir</td>\n",
              "      <td>5</td>\n",
              "      <td>58.65</td>\n",
              "      <td>2022-09-21</td>\n",
              "      <td>Kanyon</td>\n",
              "      <td>Female</td>\n",
              "      <td>45</td>\n",
              "      <td>Credit Card</td>\n",
              "    </tr>\n",
              "    <tr>\n",
              "      <th>C569580</th>\n",
              "      <td>I325143</td>\n",
              "      <td>Food &amp; Beverage</td>\n",
              "      <td>2</td>\n",
              "      <td>10.46</td>\n",
              "      <td>2021-09-22</td>\n",
              "      <td>Forum Istanbul</td>\n",
              "      <td>Male</td>\n",
              "      <td>27</td>\n",
              "      <td>Cash</td>\n",
              "    </tr>\n",
              "    <tr>\n",
              "      <th>C103292</th>\n",
              "      <td>I824010</td>\n",
              "      <td>Food &amp; Beverage</td>\n",
              "      <td>2</td>\n",
              "      <td>10.46</td>\n",
              "      <td>2021-03-28</td>\n",
              "      <td>Metrocity</td>\n",
              "      <td>Male</td>\n",
              "      <td>63</td>\n",
              "      <td>Debit Card</td>\n",
              "    </tr>\n",
              "    <tr>\n",
              "      <th>C800631</th>\n",
              "      <td>I702964</td>\n",
              "      <td>Technology</td>\n",
              "      <td>4</td>\n",
              "      <td>4200.00</td>\n",
              "      <td>2021-03-16</td>\n",
              "      <td>Istinye Park</td>\n",
              "      <td>Male</td>\n",
              "      <td>56</td>\n",
              "      <td>Cash</td>\n",
              "    </tr>\n",
              "    <tr>\n",
              "      <th>C273973</th>\n",
              "      <td>I232867</td>\n",
              "      <td>Souvenir</td>\n",
              "      <td>3</td>\n",
              "      <td>35.19</td>\n",
              "      <td>2022-10-15</td>\n",
              "      <td>Mall of Istanbul</td>\n",
              "      <td>Female</td>\n",
              "      <td>36</td>\n",
              "      <td>Credit Card</td>\n",
              "    </tr>\n",
              "  </tbody>\n",
              "</table>\n",
              "<p>99338 rows × 9 columns</p>\n",
              "</div>"
            ],
            "text/plain": [
              "            invoice_no         category  quantity    price invoice_date  \\\n",
              "customer_id                                                               \n",
              "C241288        I138884         Clothing         5  1500.40   2022-08-05   \n",
              "C111565        I317333            Shoes         3  1800.51   2021-12-12   \n",
              "C266599        I127801         Clothing         1   300.08   2021-11-09   \n",
              "C988172        I173702            Shoes         5  3000.85   2021-05-16   \n",
              "C189076        I337046            Books         4    60.60   2021-10-24   \n",
              "...                ...              ...       ...      ...          ...   \n",
              "C441542        I219422         Souvenir         5    58.65   2022-09-21   \n",
              "C569580        I325143  Food & Beverage         2    10.46   2021-09-22   \n",
              "C103292        I824010  Food & Beverage         2    10.46   2021-03-28   \n",
              "C800631        I702964       Technology         4  4200.00   2021-03-16   \n",
              "C273973        I232867         Souvenir         3    35.19   2022-10-15   \n",
              "\n",
              "                shopping_mall  gender  age payment_method  \n",
              "customer_id                                                \n",
              "C241288                Kanyon  Female   28    Credit Card  \n",
              "C111565        Forum Istanbul    Male   21     Debit Card  \n",
              "C266599             Metrocity    Male   20           Cash  \n",
              "C988172          Metropol AVM  Female   66    Credit Card  \n",
              "C189076                Kanyon  Female   53           Cash  \n",
              "...                       ...     ...  ...            ...  \n",
              "C441542                Kanyon  Female   45    Credit Card  \n",
              "C569580        Forum Istanbul    Male   27           Cash  \n",
              "C103292             Metrocity    Male   63     Debit Card  \n",
              "C800631          Istinye Park    Male   56           Cash  \n",
              "C273973      Mall of Istanbul  Female   36    Credit Card  \n",
              "\n",
              "[99338 rows x 9 columns]"
            ]
          },
          "execution_count": 164,
          "metadata": {},
          "output_type": "execute_result"
        }
      ],
      "source": [
        "datos_limpios"
      ]
    },
    {
      "cell_type": "markdown",
      "id": "c98d6cf0-5f94-40a3-b0bc-77b79cca3460",
      "metadata": {
        "id": "c98d6cf0-5f94-40a3-b0bc-77b79cca3460"
      },
      "source": [
        "Antes de guardarlo como definitivo, hacemos comprobaciones de integridad ( no nulos, no duplicados,tipos de datos)"
      ]
    },
    {
      "cell_type": "code",
      "execution_count": null,
      "id": "64c8bcc9-dd7e-4bb5-b448-ca3fc43139f5",
      "metadata": {
        "id": "64c8bcc9-dd7e-4bb5-b448-ca3fc43139f5",
        "outputId": "0f06b73a-e4f2-4c73-a214-c83c893a9d20"
      },
      "outputs": [
        {
          "data": {
            "text/plain": [
              "age               0\n",
              "payment_method    0\n",
              "gender            0\n",
              "price             0\n",
              "shopping_mall     0\n",
              "dtype: int64"
            ]
          },
          "execution_count": 171,
          "metadata": {},
          "output_type": "execute_result"
        }
      ],
      "source": [
        "datos_limpios[['age', 'payment_method','gender', 'price', 'shopping_mall']].isnull().sum()"
      ]
    },
    {
      "cell_type": "code",
      "execution_count": null,
      "id": "0b72bca4-e38a-45d1-a7b4-ad157a60a159",
      "metadata": {
        "id": "0b72bca4-e38a-45d1-a7b4-ad157a60a159",
        "outputId": "cee3b19f-13d2-4066-cf3d-ded7fbe41c78"
      },
      "outputs": [
        {
          "data": {
            "text/plain": [
              "np.int64(0)"
            ]
          },
          "execution_count": 172,
          "metadata": {},
          "output_type": "execute_result"
        }
      ],
      "source": [
        "datos_limpios.index.isnull().sum() #acá nos fijamos que customer_id no sea nulo"
      ]
    },
    {
      "cell_type": "code",
      "execution_count": null,
      "id": "f5332c7a-e979-46b9-a55a-22c2f4036ef3",
      "metadata": {
        "id": "f5332c7a-e979-46b9-a55a-22c2f4036ef3",
        "outputId": "bf22f748-b10d-499b-e5e6-f9119661175c"
      },
      "outputs": [
        {
          "data": {
            "text/plain": [
              "np.int64(0)"
            ]
          },
          "execution_count": 181,
          "metadata": {},
          "output_type": "execute_result"
        }
      ],
      "source": [
        "datos_limpios.duplicated().sum()"
      ]
    },
    {
      "cell_type": "code",
      "execution_count": null,
      "id": "7bdc2314-489b-483c-bdc4-fe9feb2ca169",
      "metadata": {
        "id": "7bdc2314-489b-483c-bdc4-fe9feb2ca169",
        "outputId": "c508ef41-4c22-4185-b80e-8342fbb48a0f"
      },
      "outputs": [
        {
          "data": {
            "text/plain": [
              "True"
            ]
          },
          "execution_count": 182,
          "metadata": {},
          "output_type": "execute_result"
        }
      ],
      "source": [
        "set(ventas['customer_id']).issubset(set(clientes['customer_id']))# aca chequeamos integridad referencial ( mismos registros  en ventas que en clientes)"
      ]
    },
    {
      "cell_type": "code",
      "execution_count": null,
      "id": "88739945-d83c-4e48-af32-d90da789e2ad",
      "metadata": {
        "id": "88739945-d83c-4e48-af32-d90da789e2ad",
        "outputId": "8b7feada-f198-47da-871e-418ac7a27038"
      },
      "outputs": [
        {
          "name": "stdout",
          "output_type": "stream",
          "text": [
            "<class 'pandas.core.frame.DataFrame'>\n",
            "Index: 99338 entries, C241288 to C273973\n",
            "Data columns (total 9 columns):\n",
            " #   Column          Non-Null Count  Dtype         \n",
            "---  ------          --------------  -----         \n",
            " 0   invoice_no      99338 non-null  object        \n",
            " 1   category        99338 non-null  object        \n",
            " 2   quantity        99338 non-null  int64         \n",
            " 3   price           99338 non-null  float64       \n",
            " 4   invoice_date    99338 non-null  datetime64[ns]\n",
            " 5   shopping_mall   99338 non-null  object        \n",
            " 6   gender          99338 non-null  object        \n",
            " 7   age             99338 non-null  int64         \n",
            " 8   payment_method  99338 non-null  object        \n",
            "dtypes: datetime64[ns](1), float64(1), int64(2), object(5)\n",
            "memory usage: 9.6+ MB\n"
          ]
        }
      ],
      "source": [
        "datos_limpios.info()  #para ver tipos de datos"
      ]
    },
    {
      "cell_type": "markdown",
      "id": "33de74da-be44-4905-8b72-04921d1fc02f",
      "metadata": {
        "id": "33de74da-be44-4905-8b72-04921d1fc02f"
      },
      "source": [
        "Una vez verificado la integridad de los datos, se genera archivo datos_limplios.csv"
      ]
    },
    {
      "cell_type": "code",
      "execution_count": null,
      "id": "6bc90c9c-749a-423b-9a8a-eee82f2efb86",
      "metadata": {
        "id": "6bc90c9c-749a-423b-9a8a-eee82f2efb86"
      },
      "outputs": [],
      "source": [
        "datos_limpios.to_csv('datos_limpios.csv', index=False)"
      ]
    },
    {
      "cell_type": "markdown",
      "id": "fdb72741-c90f-46f1-9872-1dee2513c992",
      "metadata": {
        "id": "fdb72741-c90f-46f1-9872-1dee2513c992"
      },
      "source": [
        "verificaciones finales:"
      ]
    },
    {
      "cell_type": "code",
      "execution_count": null,
      "id": "94311149-43d7-4585-b398-08585b305fb1",
      "metadata": {
        "id": "94311149-43d7-4585-b398-08585b305fb1"
      },
      "outputs": [],
      "source": [
        "df_final=pd.read_csv('datos_limpios.csv')"
      ]
    },
    {
      "cell_type": "code",
      "execution_count": null,
      "id": "a1153d09-b770-4ed2-965e-3c9f3970283c",
      "metadata": {
        "id": "a1153d09-b770-4ed2-965e-3c9f3970283c",
        "outputId": "6d103082-ce1b-4ba1-ac8d-8c9165fac63e"
      },
      "outputs": [
        {
          "data": {
            "text/html": [
              "<div>\n",
              "<style scoped>\n",
              "    .dataframe tbody tr th:only-of-type {\n",
              "        vertical-align: middle;\n",
              "    }\n",
              "\n",
              "    .dataframe tbody tr th {\n",
              "        vertical-align: top;\n",
              "    }\n",
              "\n",
              "    .dataframe thead th {\n",
              "        text-align: right;\n",
              "    }\n",
              "</style>\n",
              "<table border=\"1\" class=\"dataframe\">\n",
              "  <thead>\n",
              "    <tr style=\"text-align: right;\">\n",
              "      <th></th>\n",
              "      <th>invoice_no</th>\n",
              "      <th>category</th>\n",
              "      <th>quantity</th>\n",
              "      <th>price</th>\n",
              "      <th>invoice_date</th>\n",
              "      <th>shopping_mall</th>\n",
              "      <th>gender</th>\n",
              "      <th>age</th>\n",
              "      <th>payment_method</th>\n",
              "    </tr>\n",
              "  </thead>\n",
              "  <tbody>\n",
              "    <tr>\n",
              "      <th>0</th>\n",
              "      <td>I138884</td>\n",
              "      <td>Clothing</td>\n",
              "      <td>5</td>\n",
              "      <td>1500.40</td>\n",
              "      <td>2022-08-05</td>\n",
              "      <td>Kanyon</td>\n",
              "      <td>Female</td>\n",
              "      <td>28</td>\n",
              "      <td>Credit Card</td>\n",
              "    </tr>\n",
              "    <tr>\n",
              "      <th>1</th>\n",
              "      <td>I317333</td>\n",
              "      <td>Shoes</td>\n",
              "      <td>3</td>\n",
              "      <td>1800.51</td>\n",
              "      <td>2021-12-12</td>\n",
              "      <td>Forum Istanbul</td>\n",
              "      <td>Male</td>\n",
              "      <td>21</td>\n",
              "      <td>Debit Card</td>\n",
              "    </tr>\n",
              "    <tr>\n",
              "      <th>2</th>\n",
              "      <td>I127801</td>\n",
              "      <td>Clothing</td>\n",
              "      <td>1</td>\n",
              "      <td>300.08</td>\n",
              "      <td>2021-11-09</td>\n",
              "      <td>Metrocity</td>\n",
              "      <td>Male</td>\n",
              "      <td>20</td>\n",
              "      <td>Cash</td>\n",
              "    </tr>\n",
              "    <tr>\n",
              "      <th>3</th>\n",
              "      <td>I173702</td>\n",
              "      <td>Shoes</td>\n",
              "      <td>5</td>\n",
              "      <td>3000.85</td>\n",
              "      <td>2021-05-16</td>\n",
              "      <td>Metropol AVM</td>\n",
              "      <td>Female</td>\n",
              "      <td>66</td>\n",
              "      <td>Credit Card</td>\n",
              "    </tr>\n",
              "    <tr>\n",
              "      <th>4</th>\n",
              "      <td>I337046</td>\n",
              "      <td>Books</td>\n",
              "      <td>4</td>\n",
              "      <td>60.60</td>\n",
              "      <td>2021-10-24</td>\n",
              "      <td>Kanyon</td>\n",
              "      <td>Female</td>\n",
              "      <td>53</td>\n",
              "      <td>Cash</td>\n",
              "    </tr>\n",
              "    <tr>\n",
              "      <th>...</th>\n",
              "      <td>...</td>\n",
              "      <td>...</td>\n",
              "      <td>...</td>\n",
              "      <td>...</td>\n",
              "      <td>...</td>\n",
              "      <td>...</td>\n",
              "      <td>...</td>\n",
              "      <td>...</td>\n",
              "      <td>...</td>\n",
              "    </tr>\n",
              "    <tr>\n",
              "      <th>99333</th>\n",
              "      <td>I219422</td>\n",
              "      <td>Souvenir</td>\n",
              "      <td>5</td>\n",
              "      <td>58.65</td>\n",
              "      <td>2022-09-21</td>\n",
              "      <td>Kanyon</td>\n",
              "      <td>Female</td>\n",
              "      <td>45</td>\n",
              "      <td>Credit Card</td>\n",
              "    </tr>\n",
              "    <tr>\n",
              "      <th>99334</th>\n",
              "      <td>I325143</td>\n",
              "      <td>Food &amp; Beverage</td>\n",
              "      <td>2</td>\n",
              "      <td>10.46</td>\n",
              "      <td>2021-09-22</td>\n",
              "      <td>Forum Istanbul</td>\n",
              "      <td>Male</td>\n",
              "      <td>27</td>\n",
              "      <td>Cash</td>\n",
              "    </tr>\n",
              "    <tr>\n",
              "      <th>99335</th>\n",
              "      <td>I824010</td>\n",
              "      <td>Food &amp; Beverage</td>\n",
              "      <td>2</td>\n",
              "      <td>10.46</td>\n",
              "      <td>2021-03-28</td>\n",
              "      <td>Metrocity</td>\n",
              "      <td>Male</td>\n",
              "      <td>63</td>\n",
              "      <td>Debit Card</td>\n",
              "    </tr>\n",
              "    <tr>\n",
              "      <th>99336</th>\n",
              "      <td>I702964</td>\n",
              "      <td>Technology</td>\n",
              "      <td>4</td>\n",
              "      <td>4200.00</td>\n",
              "      <td>2021-03-16</td>\n",
              "      <td>Istinye Park</td>\n",
              "      <td>Male</td>\n",
              "      <td>56</td>\n",
              "      <td>Cash</td>\n",
              "    </tr>\n",
              "    <tr>\n",
              "      <th>99337</th>\n",
              "      <td>I232867</td>\n",
              "      <td>Souvenir</td>\n",
              "      <td>3</td>\n",
              "      <td>35.19</td>\n",
              "      <td>2022-10-15</td>\n",
              "      <td>Mall of Istanbul</td>\n",
              "      <td>Female</td>\n",
              "      <td>36</td>\n",
              "      <td>Credit Card</td>\n",
              "    </tr>\n",
              "  </tbody>\n",
              "</table>\n",
              "<p>99338 rows × 9 columns</p>\n",
              "</div>"
            ],
            "text/plain": [
              "      invoice_no         category  quantity    price invoice_date  \\\n",
              "0        I138884         Clothing         5  1500.40   2022-08-05   \n",
              "1        I317333            Shoes         3  1800.51   2021-12-12   \n",
              "2        I127801         Clothing         1   300.08   2021-11-09   \n",
              "3        I173702            Shoes         5  3000.85   2021-05-16   \n",
              "4        I337046            Books         4    60.60   2021-10-24   \n",
              "...          ...              ...       ...      ...          ...   \n",
              "99333    I219422         Souvenir         5    58.65   2022-09-21   \n",
              "99334    I325143  Food & Beverage         2    10.46   2021-09-22   \n",
              "99335    I824010  Food & Beverage         2    10.46   2021-03-28   \n",
              "99336    I702964       Technology         4  4200.00   2021-03-16   \n",
              "99337    I232867         Souvenir         3    35.19   2022-10-15   \n",
              "\n",
              "          shopping_mall  gender  age payment_method  \n",
              "0                Kanyon  Female   28    Credit Card  \n",
              "1        Forum Istanbul    Male   21     Debit Card  \n",
              "2             Metrocity    Male   20           Cash  \n",
              "3          Metropol AVM  Female   66    Credit Card  \n",
              "4                Kanyon  Female   53           Cash  \n",
              "...                 ...     ...  ...            ...  \n",
              "99333            Kanyon  Female   45    Credit Card  \n",
              "99334    Forum Istanbul    Male   27           Cash  \n",
              "99335         Metrocity    Male   63     Debit Card  \n",
              "99336      Istinye Park    Male   56           Cash  \n",
              "99337  Mall of Istanbul  Female   36    Credit Card  \n",
              "\n",
              "[99338 rows x 9 columns]"
            ]
          },
          "execution_count": 189,
          "metadata": {},
          "output_type": "execute_result"
        }
      ],
      "source": [
        "df_final"
      ]
    },
    {
      "cell_type": "code",
      "execution_count": null,
      "id": "bb967230-7b4d-48b8-ab35-78a969aa3799",
      "metadata": {
        "id": "bb967230-7b4d-48b8-ab35-78a969aa3799",
        "outputId": "f3f4da4f-30ed-489f-adb8-5fc991a58ed8"
      },
      "outputs": [
        {
          "name": "stdout",
          "output_type": "stream",
          "text": [
            "<class 'pandas.core.frame.DataFrame'>\n",
            "RangeIndex: 99338 entries, 0 to 99337\n",
            "Data columns (total 9 columns):\n",
            " #   Column          Non-Null Count  Dtype  \n",
            "---  ------          --------------  -----  \n",
            " 0   invoice_no      99338 non-null  object \n",
            " 1   category        99338 non-null  object \n",
            " 2   quantity        99338 non-null  int64  \n",
            " 3   price           99338 non-null  float64\n",
            " 4   invoice_date    99338 non-null  object \n",
            " 5   shopping_mall   99338 non-null  object \n",
            " 6   gender          99338 non-null  object \n",
            " 7   age             99338 non-null  int64  \n",
            " 8   payment_method  99338 non-null  object \n",
            "dtypes: float64(1), int64(2), object(6)\n",
            "memory usage: 6.8+ MB\n"
          ]
        }
      ],
      "source": [
        "df_final.info()\n"
      ]
    },
    {
      "cell_type": "markdown",
      "id": "901caf29-e92c-40b4-a9dd-61202895175b",
      "metadata": {
        "id": "901caf29-e92c-40b4-a9dd-61202895175b"
      },
      "source": [
        "Aca viene la parte de analisis: ver distribucion de edades,ventas segun metodos de pago, ventas segun genero y metodo de pago.  Esto sirve para el informe final y conclusiones\n"
      ]
    },
    {
      "cell_type": "code",
      "execution_count": null,
      "id": "151bcf38-ec34-43eb-b499-5695996f0232",
      "metadata": {
        "id": "151bcf38-ec34-43eb-b499-5695996f0232"
      },
      "outputs": [],
      "source": []
    }
  ],
  "metadata": {
    "kernelspec": {
      "display_name": "Python [conda env:base] *",
      "language": "python",
      "name": "conda-base-py"
    },
    "language_info": {
      "codemirror_mode": {
        "name": "ipython",
        "version": 3
      },
      "file_extension": ".py",
      "mimetype": "text/x-python",
      "name": "python",
      "nbconvert_exporter": "python",
      "pygments_lexer": "ipython3",
      "version": "3.13.5"
    },
    "colab": {
      "provenance": [],
      "include_colab_link": true
    }
  },
  "nbformat": 4,
  "nbformat_minor": 5
}